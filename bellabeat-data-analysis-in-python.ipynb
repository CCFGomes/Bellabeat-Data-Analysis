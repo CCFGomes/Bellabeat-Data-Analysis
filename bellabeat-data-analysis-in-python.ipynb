{
 "cells": [
  {
   "cell_type": "markdown",
   "id": "ee74c18e",
   "metadata": {
    "papermill": {
     "duration": 0.011342,
     "end_time": "2023-07-28T22:29:24.290847",
     "exception": false,
     "start_time": "2023-07-28T22:29:24.279505",
     "status": "completed"
    },
    "tags": []
   },
   "source": [
    "# Bellabeat Data Analysis using Python"
   ]
  },
  {
   "cell_type": "markdown",
   "id": "ed170578",
   "metadata": {
    "papermill": {
     "duration": 0.010827,
     "end_time": "2023-07-28T22:29:24.312933",
     "exception": false,
     "start_time": "2023-07-28T22:29:24.302106",
     "status": "completed"
    },
    "tags": []
   },
   "source": [
    "<img src=\"data:image/jpeg;base64,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\" alt=\"Image\" width=\"300\" height=\"200\">"
   ]
  },
  {
   "cell_type": "markdown",
   "id": "f09163a5",
   "metadata": {
    "papermill": {
     "duration": 0.010707,
     "end_time": "2023-07-28T22:29:24.334658",
     "exception": false,
     "start_time": "2023-07-28T22:29:24.323951",
     "status": "completed"
    },
    "tags": []
   },
   "source": [
    "# Scenario\n",
    "\n",
    "Bellabeat is a high-tech manufacturer of health-focused products for women, founded by Urška Sršen and Sando Mur. They aim to gain insights from smart device data usage to better understand consumer behavior and make informed decisions regarding their marketing strategies.\n",
    "\n",
    "# Business Objective:\n",
    "1. What are some trends in smart device usage?\n",
    "2. How could these trends apply to Bellabeat customers?\n",
    "3. How could these trends help influence Bellabeat marketing strategy?\n",
    "\n",
    "# Deliverables:\n",
    "1. A clear summary of the business task\n",
    "2. A description of all data sources used\n",
    "3. Documentation of any cleaning or manipulation of data\n",
    "4. A summary of your analysis\n",
    "5. Supporting visualizations and key findings\n",
    "6. Your top high-level content recommendations based on your analysis"
   ]
  },
  {
   "cell_type": "markdown",
   "id": "cd40d584",
   "metadata": {
    "papermill": {
     "duration": 0.010783,
     "end_time": "2023-07-28T22:29:24.356636",
     "exception": false,
     "start_time": "2023-07-28T22:29:24.345853",
     "status": "completed"
    },
    "tags": []
   },
   "source": [
    "# 1. Ask phase\n",
    "\n",
    "* Business Task\n",
    "\n",
    "Analyze smart device data usage and provide recommendations for Bellabeat's marketing strategy. By examining how consumers interact with Bellabeat's smart devices, it will be possible to identify trends, patterns, and valuable insights. These insights will guide future marketing campaigns, enhance customer engagement, and drive growth in the competitive smart device market.\n",
    "\n",
    "* Key Steakholders\n",
    "1. Urška Sršen: Bellabeat’s cofounder and Chief Creative Officer.\n",
    "2. Sando Mur: Mathematician and Bellabeat’s cofounder; key member of the Bellabeat executive team.\n",
    "3. Bellabeat marketing analytics team: A team of data analysts responsible for collecting, analyzing, and reporting data that helps guide Bellabeat’s marketing strategy. "
   ]
  },
  {
   "cell_type": "markdown",
   "id": "822e6998",
   "metadata": {
    "papermill": {
     "duration": 0.01108,
     "end_time": "2023-07-28T22:29:24.378907",
     "exception": false,
     "start_time": "2023-07-28T22:29:24.367827",
     "status": "completed"
    },
    "tags": []
   },
   "source": [
    "# 2. Prepare phase\n",
    "\n",
    "2.1 Information about the data source\n",
    "\n",
    "[FitBit Fitness Tracker Data](https://www.kaggle.com/datasets/arashnic/fitbit)\n",
    "\n",
    "- Data Source: Publicly available dataset on Kaggle, consisting of 18 CSV files.\n",
    "- Data Generation: Respondents from a distributed survey via Amazon Mechanical Turk.\n",
    "- Collection Period: March 12, 2016, to May 12, 2016.\n",
    "- Participants: Data collected from 30 Fitbit users who consented to submitting personal tracker data.\n",
    "- Data Contents: Minute-level output for physical activity, heart rate, and sleep monitoring.\n",
    "- User Habits: Provides insights into daily activity, steps, and heart rate to explore user habits.\n",
    "- Consent: Users provided consent for the submission of personal tracker data.\n",
    "- Data Contents: Includes physical activity, heart rate, sleep monitoring, daily activity, and steps recorded.\n",
    "\n",
    "\n",
    "2.2 Limitations of the data\n",
    "- There are limitations mentioned for this dataset. The data is from 2016, which may not be timely or relevant. The sample size of 30 FitBit users is small and may not be representative of the entire population. \n",
    "- Additional data may be required to address limitations and enhance analysis.\n",
    "- The data's reliability, accuracy, and credibility are uncertain, since it's provided from a survey.\n",
    "\n",
    "2.3 Is Data ROCCC (Reliable, Original, Comprehensive, Current, and Cited)?\n",
    "\n",
    "- Reliable: The reliability of the data may be considered low, as it was generated by respondents from a distributed survey and collected through Amazon Mechanical Turk. The data's accuracy and reliability cannot be verified directly.\n",
    "\n",
    "- Original: The originality of the data is low, as it was obtained from a third-party source (Amazon Mechanical Turk) and does not have a clear indication of its source or origin.\n",
    "\n",
    "- Comprehensive: The data can be considered moderately comprehensive, as it covers parameters related to physical activity, heart rate, sleep monitoring, daily activity, and steps, which align with Bellabeat's products' parameters.\n",
    "\n",
    "- Current: The data is not current, as it was collected between March 12, 2016, and May 12, 2016, which makes it over five years old and potentially outdated for analyzing current trends or behaviors.\n",
    "\n",
    "- Cited: The data does not have a clear citation or reference to its source, which raises concerns about its credibility and citation.\n",
    "\n",
    "Overall, the data does not fulfill the ROCCC criteria, indicating potential issues with reliability, originality, and currentness."
   ]
  },
  {
   "cell_type": "markdown",
   "id": "d29935d7",
   "metadata": {
    "papermill": {
     "duration": 0.011205,
     "end_time": "2023-07-28T22:29:24.401577",
     "exception": false,
     "start_time": "2023-07-28T22:29:24.390372",
     "status": "completed"
    },
    "tags": []
   },
   "source": [
    "2.4 Importing the required libraries"
   ]
  },
  {
   "cell_type": "code",
   "execution_count": 1,
   "id": "30847e01",
   "metadata": {
    "execution": {
     "iopub.execute_input": "2023-07-28T22:29:24.427306Z",
     "iopub.status.busy": "2023-07-28T22:29:24.426739Z",
     "iopub.status.idle": "2023-07-28T22:29:25.760718Z",
     "shell.execute_reply": "2023-07-28T22:29:25.759640Z"
    },
    "papermill": {
     "duration": 1.350047,
     "end_time": "2023-07-28T22:29:25.763082",
     "exception": false,
     "start_time": "2023-07-28T22:29:24.413035",
     "status": "completed"
    },
    "tags": []
   },
   "outputs": [],
   "source": [
    "import numpy as np # data arrays\n",
    "import pandas as pd # data analysis and data manipulation\n",
    "import datetime as dt #date time\n",
    "import glob #retrieving file paths\n",
    "import os #to perform operations related to file and directory handling\n",
    "import seaborn as sns  # Importing seaborn library for statistical data visualization\n",
    "import matplotlib.pyplot as plt  # Importing matplotlib.pyplot for creating static visualizations\n"
   ]
  },
  {
   "cell_type": "markdown",
   "id": "b0c2636d",
   "metadata": {
    "papermill": {
     "duration": 0.010274,
     "end_time": "2023-07-28T22:29:25.784381",
     "exception": false,
     "start_time": "2023-07-28T22:29:25.774107",
     "status": "completed"
    },
    "tags": []
   },
   "source": [
    "2.5 Data to be analized \n",
    "\n",
    "- Data was chosen based on the search for insights related to smart device usage, physical activity, sleep patterns, weight management, and calories burned througout the range that this data was collected.\n",
    "    * daily_activity: To analyze trends in activity levels throughout the day, identify peak active hours, sedentary periods, and explore correlations between calorie burn and factors like activity levels, sleep duration, or weight changes. It merged daily_intensities (which we can analyze different intensity levels of physical activity and identify patterns of light, moderate, and high-intensity activities), daily_calories (which we can find trends in daily calorie burned and to explore correlations between calorie and factors like activity levels, sleep duration, or weight changes), and daily_steps (which we can examine trends in step counts and identify days with higher or lower activity levels).\n",
    "    * sleep_day: The inclusion of sleep data is essential to understand sleep patterns and potential correlations between sleep quality and activity levels. This will provide insights into the impact of sleep on overall health and well-being.\n",
    "    * weight_log: Tracking weight changes over time will allow you to identify trends in weight loss or gain. By investigating correlations between weight changes and factors like activity levels, sleep duration, or calorie burn, you can gain valuable information on weight management.\n",
    "    * heart_rate: This dataset will be valuable in understanding the correlation between heart rate, calories burned, and different intensity levels of physical activity. Heart rate data can provide insights into the intensity and effectiveness of various activities.\n"
   ]
  },
  {
   "cell_type": "markdown",
   "id": "10c6e893",
   "metadata": {
    "papermill": {
     "duration": 0.010915,
     "end_time": "2023-07-28T22:29:25.806296",
     "exception": false,
     "start_time": "2023-07-28T22:29:25.795381",
     "status": "completed"
    },
    "tags": []
   },
   "source": [
    "2.6 Loading the data into a pandas DataFrame\n",
    "\n",
    "- Loading data into a pandas DataFrame enables easy data manipulation, analysis, and visualization, facilitating tasks such as organizing data, performing operations, analyzing statistics, cleaning data, creating visualizations, and integrating with other libraries."
   ]
  },
  {
   "cell_type": "code",
   "execution_count": 2,
   "id": "1bbad94b",
   "metadata": {
    "execution": {
     "iopub.execute_input": "2023-07-28T22:29:25.829970Z",
     "iopub.status.busy": "2023-07-28T22:29:25.829614Z",
     "iopub.status.idle": "2023-07-28T22:29:28.407663Z",
     "shell.execute_reply": "2023-07-28T22:29:28.406955Z"
    },
    "papermill": {
     "duration": 2.592793,
     "end_time": "2023-07-28T22:29:28.410120",
     "exception": false,
     "start_time": "2023-07-28T22:29:25.817327",
     "status": "completed"
    },
    "tags": []
   },
   "outputs": [],
   "source": [
    "# Loading data frames using pd.read to read CSV files into a pandas DataFrame\n",
    "daily_activity = pd.read_csv('../input/fitbit/Fitabase Data 4.12.16-5.12.16/dailyActivity_merged.csv')\n",
    "sleepday = pd.read_csv('../input/fitbit/Fitabase Data 4.12.16-5.12.16/sleepDay_merged.csv')\n",
    "weight_log = pd.read_csv('../input/fitbit/Fitabase Data 4.12.16-5.12.16/weightLogInfo_merged.csv')\n",
    "heart_rate = pd.read_csv('../input/fitbit/Fitabase Data 4.12.16-5.12.16/heartrate_seconds_merged.csv')\n"
   ]
  },
  {
   "cell_type": "code",
   "execution_count": 3,
   "id": "30486401",
   "metadata": {
    "execution": {
     "iopub.execute_input": "2023-07-28T22:29:28.434604Z",
     "iopub.status.busy": "2023-07-28T22:29:28.433827Z",
     "iopub.status.idle": "2023-07-28T22:29:28.460466Z",
     "shell.execute_reply": "2023-07-28T22:29:28.459318Z"
    },
    "papermill": {
     "duration": 0.04211,
     "end_time": "2023-07-28T22:29:28.463554",
     "exception": false,
     "start_time": "2023-07-28T22:29:28.421444",
     "status": "completed"
    },
    "tags": []
   },
   "outputs": [
    {
     "name": "stdout",
     "output_type": "stream",
     "text": [
      "Daily Activity Dataset: 33 unique users\n",
      "SleepDay Dataset: 24 unique users\n",
      "Weight Log Dataset: 8 unique users\n",
      "Heart Rate Dataset: 14 unique users\n"
     ]
    }
   ],
   "source": [
    "# Check for unique users\n",
    "print(\"Daily Activity Dataset:\",daily_activity.Id.nunique(), \"unique users\")\n",
    "print(\"SleepDay Dataset:\",sleepday.Id.nunique(), \"unique users\")\n",
    "print(\"Weight Log Dataset:\",weight_log.Id.nunique(), \"unique users\")\n",
    "print(\"Heart Rate Dataset:\",heart_rate.Id.nunique(), \"unique users\")"
   ]
  },
  {
   "cell_type": "code",
   "execution_count": 4,
   "id": "65f3d2c3",
   "metadata": {
    "execution": {
     "iopub.execute_input": "2023-07-28T22:29:28.488623Z",
     "iopub.status.busy": "2023-07-28T22:29:28.488271Z",
     "iopub.status.idle": "2023-07-28T22:29:28.820183Z",
     "shell.execute_reply": "2023-07-28T22:29:28.818555Z"
    },
    "papermill": {
     "duration": 0.347658,
     "end_time": "2023-07-28T22:29:28.822711",
     "exception": false,
     "start_time": "2023-07-28T22:29:28.475053",
     "status": "completed"
    },
    "tags": []
   },
   "outputs": [
    {
     "name": "stdout",
     "output_type": "stream",
     "text": [
      "Daily Activity Dataset - Missing Values:\n",
      "Id                          0\n",
      "ActivityDate                0\n",
      "TotalSteps                  0\n",
      "TotalDistance               0\n",
      "TrackerDistance             0\n",
      "LoggedActivitiesDistance    0\n",
      "VeryActiveDistance          0\n",
      "ModeratelyActiveDistance    0\n",
      "LightActiveDistance         0\n",
      "SedentaryActiveDistance     0\n",
      "VeryActiveMinutes           0\n",
      "FairlyActiveMinutes         0\n",
      "LightlyActiveMinutes        0\n",
      "SedentaryMinutes            0\n",
      "Calories                    0\n",
      "dtype: int64\n",
      "\n",
      "SleepDay Dataset - Missing Values:\n",
      "Id                    0\n",
      "SleepDay              0\n",
      "TotalSleepRecords     0\n",
      "TotalMinutesAsleep    0\n",
      "TotalTimeInBed        0\n",
      "dtype: int64\n",
      "\n",
      "Weight Log Dataset - Missing Values:\n",
      "Id                 0\n",
      "Date               0\n",
      "WeightKg           0\n",
      "WeightPounds       0\n",
      "Fat               65\n",
      "BMI                0\n",
      "IsManualReport     0\n",
      "LogId              0\n",
      "dtype: int64\n",
      "\n",
      "Heart Rate Dataset - Missing Values:\n",
      "Id       0\n",
      "Time     0\n",
      "Value    0\n",
      "dtype: int64\n"
     ]
    }
   ],
   "source": [
    "# Check Common Identifier (Id) \n",
    "\n",
    "# Check for missing values in each dataset\n",
    "print(\"Daily Activity Dataset - Missing Values:\")\n",
    "print(daily_activity.isnull().sum())\n",
    "\n",
    "print(\"\\nSleepDay Dataset - Missing Values:\")\n",
    "print(sleepday.isnull().sum())\n",
    "\n",
    "print(\"\\nWeight Log Dataset - Missing Values:\")\n",
    "print(weight_log.isnull().sum())\n",
    "\n",
    "print(\"\\nHeart Rate Dataset - Missing Values:\")\n",
    "print(heart_rate.isnull().sum())\n"
   ]
  },
  {
   "cell_type": "code",
   "execution_count": 5,
   "id": "ec593bff",
   "metadata": {
    "execution": {
     "iopub.execute_input": "2023-07-28T22:29:28.846689Z",
     "iopub.status.busy": "2023-07-28T22:29:28.846350Z",
     "iopub.status.idle": "2023-07-28T22:29:28.853388Z",
     "shell.execute_reply": "2023-07-28T22:29:28.852250Z"
    },
    "papermill": {
     "duration": 0.021362,
     "end_time": "2023-07-28T22:29:28.855414",
     "exception": false,
     "start_time": "2023-07-28T22:29:28.834052",
     "status": "completed"
    },
    "tags": []
   },
   "outputs": [
    {
     "name": "stdout",
     "output_type": "stream",
     "text": [
      "Daily Activity: Index(['Id', 'ActivityDate', 'TotalSteps', 'TotalDistance', 'TrackerDistance',\n",
      "       'LoggedActivitiesDistance', 'VeryActiveDistance',\n",
      "       'ModeratelyActiveDistance', 'LightActiveDistance',\n",
      "       'SedentaryActiveDistance', 'VeryActiveMinutes', 'FairlyActiveMinutes',\n",
      "       'LightlyActiveMinutes', 'SedentaryMinutes', 'Calories'],\n",
      "      dtype='object')\n",
      "Sleepday: Index(['Id', 'SleepDay', 'TotalSleepRecords', 'TotalMinutesAsleep',\n",
      "       'TotalTimeInBed'],\n",
      "      dtype='object')\n",
      "Weight Log: Index(['Id', 'Date', 'WeightKg', 'WeightPounds', 'Fat', 'BMI',\n",
      "       'IsManualReport', 'LogId'],\n",
      "      dtype='object')\n",
      "Heart Rate: Index(['Id', 'Time', 'Value'], dtype='object')\n"
     ]
    }
   ],
   "source": [
    "# Check the dataframe columns\n",
    "print(\"Daily Activity:\",daily_activity.columns)\n",
    "print(\"Sleepday:\",sleepday.columns)\n",
    "print(\"Weight Log:\",weight_log.columns)\n",
    "print(\"Heart Rate:\",heart_rate.columns)"
   ]
  },
  {
   "cell_type": "code",
   "execution_count": 6,
   "id": "fd103d8d",
   "metadata": {
    "execution": {
     "iopub.execute_input": "2023-07-28T22:29:28.879626Z",
     "iopub.status.busy": "2023-07-28T22:29:28.879298Z",
     "iopub.status.idle": "2023-07-28T22:29:28.884343Z",
     "shell.execute_reply": "2023-07-28T22:29:28.883524Z"
    },
    "papermill": {
     "duration": 0.020076,
     "end_time": "2023-07-28T22:29:28.886796",
     "exception": false,
     "start_time": "2023-07-28T22:29:28.866720",
     "status": "completed"
    },
    "tags": []
   },
   "outputs": [
    {
     "name": "stdout",
     "output_type": "stream",
     "text": [
      "Daily Activity: (940, 15)\n",
      "Sleepday: (413, 5)\n",
      "Weight Log: (67, 8)\n",
      "Heart Rate: (2483658, 3)\n"
     ]
    }
   ],
   "source": [
    "# Check the dataframe shape\n",
    "print(\"Daily Activity:\",daily_activity.shape)\n",
    "print(\"Sleepday:\",sleepday.shape)\n",
    "print(\"Weight Log:\",weight_log.shape)\n",
    "print(\"Heart Rate:\",heart_rate.shape)"
   ]
  },
  {
   "cell_type": "markdown",
   "id": "868860b7",
   "metadata": {
    "papermill": {
     "duration": 0.011354,
     "end_time": "2023-07-28T22:29:28.910823",
     "exception": false,
     "start_time": "2023-07-28T22:29:28.899469",
     "status": "completed"
    },
    "tags": []
   },
   "source": [
    "Heart rate has 2483658 rows, because it is tracked each 5 seconds. So let's transform these seconds in minutes, using the average of heart beating for each minute, and the minutes in hours and create 2 new columns for these new grouped values, 'MinuteAverage' and 'HourlyAverage\".\n",
    "Also, removing the 'Value' column."
   ]
  },
  {
   "cell_type": "code",
   "execution_count": 7,
   "id": "ec666f38",
   "metadata": {
    "execution": {
     "iopub.execute_input": "2023-07-28T22:29:28.935004Z",
     "iopub.status.busy": "2023-07-28T22:29:28.934681Z",
     "iopub.status.idle": "2023-07-28T22:33:28.646637Z",
     "shell.execute_reply": "2023-07-28T22:33:28.644954Z"
    },
    "papermill": {
     "duration": 239.737376,
     "end_time": "2023-07-28T22:33:28.659439",
     "exception": false,
     "start_time": "2023-07-28T22:29:28.922063",
     "status": "completed"
    },
    "tags": []
   },
   "outputs": [
    {
     "name": "stdout",
     "output_type": "stream",
     "text": [
      "           Id                Time  MinuteAverage  HourlyAverage\n",
      "0  2022484408 2016-04-12 08:00:00     107.444444      66.673115\n",
      "1  2022484408 2016-04-12 09:00:00      64.000000      65.033879\n",
      "2  2022484408 2016-04-12 10:00:00      86.555556     106.553668\n",
      "3  2022484408 2016-04-12 12:00:00      69.272727      65.771296\n",
      "4  2022484408 2016-04-12 13:00:00      66.200000      82.360444\n"
     ]
    }
   ],
   "source": [
    "# Convert the 'Time' column to a pandas datetime object\n",
    "heart_rate['Time'] = pd.to_datetime(heart_rate['Time'])\n",
    "\n",
    "# Calculate the heart rate by minute, grouping the data by 'Id' and minute, then calculate the average heart rate for each minute\n",
    "MinuteAverage = heart_rate.groupby(['Id', pd.Grouper(key='Time', freq='1Min')])['Value'].mean().reset_index()\n",
    "MinuteAverage.rename(columns={'Value': 'MinuteAverage'}, inplace=True)\n",
    "\n",
    "# Calculate the heart rate by hour, grouping the data by 'Id' and hour, then calculate the average heart rate for each hour\n",
    "HourlyAverage = MinuteAverage.groupby(['Id', pd.Grouper(key='Time', freq='1H')])['MinuteAverage'].mean().reset_index()\n",
    "HourlyAverage.rename(columns={'MinuteAverage': 'HourlyAverage'}, inplace=True)\n",
    "\n",
    "# Drop the 'Value' column as it's no longer needed\n",
    "heart_rate.drop(columns=['Value'], inplace=True)\n",
    "\n",
    "# Merge the MinuteAverage and HourlyAverage DataFrames back to the original heart_rate DataFrame\n",
    "heart_rate = pd.merge(heart_rate, MinuteAverage[['Id', 'Time', 'MinuteAverage']], on=['Id', 'Time'])\n",
    "heart_rate = pd.merge(heart_rate, HourlyAverage[['Id', 'Time', 'HourlyAverage']], on=['Id', 'Time'])\n",
    "\n",
    "# Display the updated heart_rate DataFrame with the new columns\n",
    "print(heart_rate.head())\n",
    "\n"
   ]
  },
  {
   "cell_type": "code",
   "execution_count": 8,
   "id": "89c17af5",
   "metadata": {
    "execution": {
     "iopub.execute_input": "2023-07-28T22:33:28.684665Z",
     "iopub.status.busy": "2023-07-28T22:33:28.684308Z",
     "iopub.status.idle": "2023-07-28T22:33:28.689843Z",
     "shell.execute_reply": "2023-07-28T22:33:28.688723Z"
    },
    "papermill": {
     "duration": 0.020118,
     "end_time": "2023-07-28T22:33:28.691574",
     "exception": false,
     "start_time": "2023-07-28T22:33:28.671456",
     "status": "completed"
    },
    "tags": []
   },
   "outputs": [
    {
     "name": "stdout",
     "output_type": "stream",
     "text": [
      "Heart Rate: (3332, 4)\n"
     ]
    }
   ],
   "source": [
    "print(\"Heart Rate:\",heart_rate.shape)"
   ]
  },
  {
   "cell_type": "markdown",
   "id": "fe7cfb4a",
   "metadata": {
    "papermill": {
     "duration": 0.011682,
     "end_time": "2023-07-28T22:33:28.714833",
     "exception": false,
     "start_time": "2023-07-28T22:33:28.703151",
     "status": "completed"
    },
    "tags": []
   },
   "source": [
    "# 3. Process phase\n",
    "## 3.1 Data transformation"
   ]
  },
  {
   "cell_type": "markdown",
   "id": "9fc8bd63",
   "metadata": {
    "papermill": {
     "duration": 0.011038,
     "end_time": "2023-07-28T22:33:28.737173",
     "exception": false,
     "start_time": "2023-07-28T22:33:28.726135",
     "status": "completed"
    },
    "tags": []
   },
   "source": [
    "### Data Type Conversion and Standardization\n",
    "\n",
    "In this step, we convert the date/time columns to the DateTime data type and standardize the format across all DataFrames. This ensures consistency for the merge process."
   ]
  },
  {
   "cell_type": "markdown",
   "id": "d96c8033",
   "metadata": {
    "papermill": {
     "duration": 0.011286,
     "end_time": "2023-07-28T22:33:28.759672",
     "exception": false,
     "start_time": "2023-07-28T22:33:28.748386",
     "status": "completed"
    },
    "tags": []
   },
   "source": [
    "### Check the data type"
   ]
  },
  {
   "cell_type": "code",
   "execution_count": 9,
   "id": "37f37515",
   "metadata": {
    "execution": {
     "iopub.execute_input": "2023-07-28T22:33:28.784151Z",
     "iopub.status.busy": "2023-07-28T22:33:28.783788Z",
     "iopub.status.idle": "2023-07-28T22:33:28.791156Z",
     "shell.execute_reply": "2023-07-28T22:33:28.789560Z"
    },
    "papermill": {
     "duration": 0.022547,
     "end_time": "2023-07-28T22:33:28.793661",
     "exception": false,
     "start_time": "2023-07-28T22:33:28.771114",
     "status": "completed"
    },
    "tags": []
   },
   "outputs": [
    {
     "name": "stdout",
     "output_type": "stream",
     "text": [
      "Daily Activity data type is object data type\n",
      "Sleepday data type is object data type\n",
      "Weight Log data type is object data type\n",
      "Heart Rate data type is datetime64[ns] data type\n"
     ]
    }
   ],
   "source": [
    "print(\"Daily Activity data type is\", daily_activity[\"ActivityDate\"].dtypes, \"data type\")\n",
    "print(\"Sleepday data type is\", sleepday[\"SleepDay\"].dtypes, \"data type\")\n",
    "print(\"Weight Log data type is\", weight_log[\"Date\"].dtypes, \"data type\")\n",
    "print(\"Heart Rate data type is\", heart_rate[\"Time\"].dtypes, \"data type\")\n"
   ]
  },
  {
   "cell_type": "markdown",
   "id": "bc02f045",
   "metadata": {
    "papermill": {
     "duration": 0.012521,
     "end_time": "2023-07-28T22:33:28.818228",
     "exception": false,
     "start_time": "2023-07-28T22:33:28.805707",
     "status": "completed"
    },
    "tags": []
   },
   "source": [
    "### Transform the Date to DateTime data type"
   ]
  },
  {
   "cell_type": "code",
   "execution_count": 10,
   "id": "6dbf3fa7",
   "metadata": {
    "execution": {
     "iopub.execute_input": "2023-07-28T22:33:28.843725Z",
     "iopub.status.busy": "2023-07-28T22:33:28.843414Z",
     "iopub.status.idle": "2023-07-28T22:33:28.870164Z",
     "shell.execute_reply": "2023-07-28T22:33:28.868739Z"
    },
    "papermill": {
     "duration": 0.04234,
     "end_time": "2023-07-28T22:33:28.872665",
     "exception": false,
     "start_time": "2023-07-28T22:33:28.830325",
     "status": "completed"
    },
    "tags": []
   },
   "outputs": [],
   "source": [
    "# Transform Date to DateTime data type\n",
    "daily_activity[\"ActivityDate\"] = pd.to_datetime(daily_activity[\"ActivityDate\"])\n",
    "sleepday['SleepDay'] = pd.to_datetime(sleepday['SleepDay'])\n",
    "weight_log['Date'] = pd.to_datetime(weight_log['Date'])\n",
    "heart_rate['Time'] = pd.to_datetime(heart_rate['Time'])\n"
   ]
  },
  {
   "cell_type": "code",
   "execution_count": 11,
   "id": "76ef6c91",
   "metadata": {
    "execution": {
     "iopub.execute_input": "2023-07-28T22:33:28.899551Z",
     "iopub.status.busy": "2023-07-28T22:33:28.899204Z",
     "iopub.status.idle": "2023-07-28T22:33:28.906515Z",
     "shell.execute_reply": "2023-07-28T22:33:28.905017Z"
    },
    "papermill": {
     "duration": 0.022485,
     "end_time": "2023-07-28T22:33:28.908361",
     "exception": false,
     "start_time": "2023-07-28T22:33:28.885876",
     "status": "completed"
    },
    "tags": []
   },
   "outputs": [
    {
     "name": "stdout",
     "output_type": "stream",
     "text": [
      "Daily Activity data type is datetime64[ns] data type\n",
      "Sleepday data type is datetime64[ns] data type\n",
      "Weight Log data type is datetime64[ns] data type\n",
      "Heart Rate data type is datetime64[ns] data type\n"
     ]
    }
   ],
   "source": [
    "# Check the changes\n",
    "print(\"Daily Activity data type is\", daily_activity[\"ActivityDate\"].dtypes, \"data type\")\n",
    "print(\"Sleepday data type is\", sleepday[\"SleepDay\"].dtypes, \"data type\")\n",
    "print(\"Weight Log data type is\", weight_log[\"Date\"].dtypes, \"data type\")\n",
    "print(\"Heart Rate data type is\", heart_rate[\"Time\"].dtypes, \"data type\")\n"
   ]
  },
  {
   "cell_type": "markdown",
   "id": "a37b12dd",
   "metadata": {
    "papermill": {
     "duration": 0.011895,
     "end_time": "2023-07-28T22:33:28.932275",
     "exception": false,
     "start_time": "2023-07-28T22:33:28.920380",
     "status": "completed"
    },
    "tags": []
   },
   "source": [
    "### Checking for duplicates and missing values in each DataFrame"
   ]
  },
  {
   "cell_type": "code",
   "execution_count": 12,
   "id": "f9d540e9",
   "metadata": {
    "execution": {
     "iopub.execute_input": "2023-07-28T22:33:28.958139Z",
     "iopub.status.busy": "2023-07-28T22:33:28.957740Z",
     "iopub.status.idle": "2023-07-28T22:33:28.967576Z",
     "shell.execute_reply": "2023-07-28T22:33:28.966553Z"
    },
    "papermill": {
     "duration": 0.025757,
     "end_time": "2023-07-28T22:33:28.970200",
     "exception": false,
     "start_time": "2023-07-28T22:33:28.944443",
     "status": "completed"
    },
    "tags": []
   },
   "outputs": [
    {
     "name": "stdout",
     "output_type": "stream",
     "text": [
      "True\n",
      "True\n",
      "True\n",
      "True\n",
      "False\n",
      "False\n",
      "False\n",
      "False\n"
     ]
    }
   ],
   "source": [
    "# Checking duplicates\n",
    "print(daily_activity['ActivityDate'].duplicated().any())\n",
    "print(sleepday['SleepDay'].duplicated().any())\n",
    "print(weight_log['Date'].duplicated().any())\n",
    "print(heart_rate['Time'].duplicated().any())\n",
    "\n",
    "\n",
    "# Checking missing values\n",
    "print(daily_activity['ActivityDate'].isnull().any())\n",
    "print(sleepday['SleepDay'].isnull().any())\n",
    "print(weight_log['Date'].isnull().any())\n",
    "print(heart_rate['Time'].isnull().any())\n"
   ]
  },
  {
   "cell_type": "markdown",
   "id": "31bca88f",
   "metadata": {
    "papermill": {
     "duration": 0.01313,
     "end_time": "2023-07-28T22:33:28.996215",
     "exception": false,
     "start_time": "2023-07-28T22:33:28.983085",
     "status": "completed"
    },
    "tags": []
   },
   "source": [
    "### Handling missing values and removing duplicates"
   ]
  },
  {
   "cell_type": "code",
   "execution_count": 13,
   "id": "ae2fde0b",
   "metadata": {
    "_kg_hide-input": true,
    "execution": {
     "iopub.execute_input": "2023-07-28T22:33:29.021633Z",
     "iopub.status.busy": "2023-07-28T22:33:29.021242Z",
     "iopub.status.idle": "2023-07-28T22:33:29.045525Z",
     "shell.execute_reply": "2023-07-28T22:33:29.044528Z"
    },
    "papermill": {
     "duration": 0.039599,
     "end_time": "2023-07-28T22:33:29.047630",
     "exception": false,
     "start_time": "2023-07-28T22:33:29.008031",
     "status": "completed"
    },
    "tags": []
   },
   "outputs": [],
   "source": [
    "# 1. daily_activity:\n",
    "daily_activity.dropna(inplace=True)  # Handle missing values by removing rows with missing values\n",
    "daily_activity.drop_duplicates(inplace=True)  # Remove duplicates based on all columns\n",
    "\n",
    "# 2. sleep_day:\n",
    "sleepday.dropna(inplace=True)  # Handle missing values by removing rows with missing values\n",
    "sleepday['TotalMinutesAsleep'] = sleepday['TotalMinutesAsleep'] / 60  # Convert 'TotalMinutesAsleep' from minutes to hours\n",
    "sleepday.drop_duplicates(inplace=True)  # Remove duplicates based on the combination of 'TotalMinutesAsleep' and 'TotalTimeInBed' columns to ensure that only unique sleep records are kept in the dataset\n",
    "\n",
    "# 3. weight_log:\n",
    "weight_log.fillna(method='ffill', inplace=True)  # Handle missing values by imputing with the previous non-missing value\n",
    "weight_log.drop_duplicates(inplace=True)  # Remove duplicates based on the 'LogId' column since it represents unique log entries\n",
    "weight_log.dropna(subset=['Fat', 'BMI', 'IsManualReport'], inplace=True)  # Drop rows with missing values in specified columns\n",
    "\n",
    "# 4. heart_rate:\n",
    "heart_rate.fillna(method='ffill', inplace=True)  # Handle missing values by imputing with the previous non-missing value\n",
    "heart_rate.drop_duplicates(inplace=True)  # Remove duplicates based on the 'Id' column since it represents unique log entries"
   ]
  },
  {
   "cell_type": "markdown",
   "id": "90430525",
   "metadata": {
    "papermill": {
     "duration": 0.012045,
     "end_time": "2023-07-28T22:33:29.072674",
     "exception": false,
     "start_time": "2023-07-28T22:33:29.060629",
     "status": "completed"
    },
    "tags": []
   },
   "source": [
    "### Rename the column 'TotalMinutesAsleep' to 'TotalHoursAsleep'"
   ]
  },
  {
   "cell_type": "code",
   "execution_count": 14,
   "id": "7625df7a",
   "metadata": {
    "execution": {
     "iopub.execute_input": "2023-07-28T22:33:29.099423Z",
     "iopub.status.busy": "2023-07-28T22:33:29.098814Z",
     "iopub.status.idle": "2023-07-28T22:33:29.104317Z",
     "shell.execute_reply": "2023-07-28T22:33:29.102800Z"
    },
    "papermill": {
     "duration": 0.02117,
     "end_time": "2023-07-28T22:33:29.106662",
     "exception": false,
     "start_time": "2023-07-28T22:33:29.085492",
     "status": "completed"
    },
    "tags": []
   },
   "outputs": [],
   "source": [
    "sleepday.rename(columns={'TotalMinutesAsleep': 'TotalHoursAsleep'}, inplace=True)"
   ]
  },
  {
   "cell_type": "markdown",
   "id": "6a94033c",
   "metadata": {
    "papermill": {
     "duration": 0.012094,
     "end_time": "2023-07-28T22:33:29.131357",
     "exception": false,
     "start_time": "2023-07-28T22:33:29.119263",
     "status": "completed"
    },
    "tags": []
   },
   "source": [
    "### Renaming Columns for Simplified Merge"
   ]
  },
  {
   "cell_type": "code",
   "execution_count": 15,
   "id": "b62dc0dc",
   "metadata": {
    "execution": {
     "iopub.execute_input": "2023-07-28T22:33:29.159814Z",
     "iopub.status.busy": "2023-07-28T22:33:29.159173Z",
     "iopub.status.idle": "2023-07-28T22:33:29.170110Z",
     "shell.execute_reply": "2023-07-28T22:33:29.168551Z"
    },
    "papermill": {
     "duration": 0.026644,
     "end_time": "2023-07-28T22:33:29.172602",
     "exception": false,
     "start_time": "2023-07-28T22:33:29.145958",
     "status": "completed"
    },
    "tags": []
   },
   "outputs": [
    {
     "name": "stdout",
     "output_type": "stream",
     "text": [
      "Daily Activity: Index(['Id', 'ActivityDate', 'TotalSteps', 'TotalDistance', 'TrackerDistance',\n",
      "       'LoggedActivitiesDistance', 'VeryActiveDistance',\n",
      "       'ModeratelyActiveDistance', 'LightActiveDistance',\n",
      "       'SedentaryActiveDistance', 'VeryActiveMinutes', 'FairlyActiveMinutes',\n",
      "       'LightlyActiveMinutes', 'SedentaryMinutes', 'Calories'],\n",
      "      dtype='object')\n",
      "Sleepday: Index(['Id', 'ActivityDate', 'TotalSleepRecords', 'TotalHoursAsleep',\n",
      "       'TotalTimeInBed'],\n",
      "      dtype='object')\n",
      "Weight Log: Index(['Id', 'ActivityDate', 'WeightKg', 'WeightPounds', 'Fat', 'BMI',\n",
      "       'IsManualReport', 'LogId'],\n",
      "      dtype='object')\n",
      "Heart Rate: Index(['Id', 'ActivityDate', 'MinuteAverage', 'HourlyAverage'], dtype='object')\n"
     ]
    }
   ],
   "source": [
    "# Replace date/time column names with 'ActivityDate' in the daily_activity dataframe\n",
    "daily_activity = daily_activity.rename(columns={'ActivityDate': 'ActivityDate'})\n",
    "\n",
    "# Replace date/time column names with 'ActivityDate' in the sleepday dataframe\n",
    "sleepday = sleepday.rename(columns={'SleepDay': 'ActivityDate'})\n",
    "\n",
    "# Replace date/time column names with 'ActivityDate' in the weight_log dataframe\n",
    "weight_log = weight_log.rename(columns={'Date': 'ActivityDate'})\n",
    "\n",
    "# Replace date/time column names with 'ActivityDate' in the heart_rate dataframe\n",
    "heart_rate = heart_rate.rename(columns={'Time': 'ActivityDate'})\n",
    "\n",
    "\n",
    "# Check the dataframe columns\n",
    "print(\"Daily Activity:\",daily_activity.columns)\n",
    "print(\"Sleepday:\",sleepday.columns)\n",
    "print(\"Weight Log:\",weight_log.columns)\n",
    "print(\"Heart Rate:\",heart_rate.columns)"
   ]
  },
  {
   "cell_type": "markdown",
   "id": "ffc7b982",
   "metadata": {
    "papermill": {
     "duration": 0.012839,
     "end_time": "2023-07-28T22:33:29.198365",
     "exception": false,
     "start_time": "2023-07-28T22:33:29.185526",
     "status": "completed"
    },
    "tags": []
   },
   "source": [
    "### Creating new columns in the daily_activity DataFrame"
   ]
  },
  {
   "cell_type": "code",
   "execution_count": 16,
   "id": "1ace62a7",
   "metadata": {
    "execution": {
     "iopub.execute_input": "2023-07-28T22:33:29.225465Z",
     "iopub.status.busy": "2023-07-28T22:33:29.225074Z",
     "iopub.status.idle": "2023-07-28T22:33:29.233969Z",
     "shell.execute_reply": "2023-07-28T22:33:29.232426Z"
    },
    "papermill": {
     "duration": 0.024674,
     "end_time": "2023-07-28T22:33:29.236501",
     "exception": false,
     "start_time": "2023-07-28T22:33:29.211827",
     "status": "completed"
    },
    "tags": []
   },
   "outputs": [],
   "source": [
    "# For 'TotalActiveMinute' column, sum all the active minutes ('VeryActiveMinutes', 'FairlyActiveMinutes', and 'LightlyActiveMinutes') \n",
    "# For the 'TotalMinute', sum the \"TotalActiveMinute' and the''SedentaryMinute''\n",
    "daily_activity[\"TotalActiveMinutes\"] = daily_activity[\"VeryActiveMinutes\"] + daily_activity[\"FairlyActiveMinutes\"] + daily_activity[\"LightlyActiveMinutes\"]\n",
    "daily_activity[\"TotalMinutes\"] = daily_activity[\"TotalActiveMinutes\"] + daily_activity[\"SedentaryMinutes\"]\n",
    "daily_activity[\"TotalActiveHours\"] = round(daily_activity[\"TotalActiveMinutes\"] / 60)\n"
   ]
  },
  {
   "cell_type": "code",
   "execution_count": 17,
   "id": "b02c9f55",
   "metadata": {
    "execution": {
     "iopub.execute_input": "2023-07-28T22:33:29.262699Z",
     "iopub.status.busy": "2023-07-28T22:33:29.262333Z",
     "iopub.status.idle": "2023-07-28T22:33:29.292675Z",
     "shell.execute_reply": "2023-07-28T22:33:29.291465Z"
    },
    "papermill": {
     "duration": 0.046196,
     "end_time": "2023-07-28T22:33:29.295117",
     "exception": false,
     "start_time": "2023-07-28T22:33:29.248921",
     "status": "completed"
    },
    "tags": []
   },
   "outputs": [
    {
     "data": {
      "text/html": [
       "<div>\n",
       "<style scoped>\n",
       "    .dataframe tbody tr th:only-of-type {\n",
       "        vertical-align: middle;\n",
       "    }\n",
       "\n",
       "    .dataframe tbody tr th {\n",
       "        vertical-align: top;\n",
       "    }\n",
       "\n",
       "    .dataframe thead th {\n",
       "        text-align: right;\n",
       "    }\n",
       "</style>\n",
       "<table border=\"1\" class=\"dataframe\">\n",
       "  <thead>\n",
       "    <tr style=\"text-align: right;\">\n",
       "      <th></th>\n",
       "      <th>Id</th>\n",
       "      <th>ActivityDate</th>\n",
       "      <th>TotalSteps</th>\n",
       "      <th>TotalDistance</th>\n",
       "      <th>TrackerDistance</th>\n",
       "      <th>LoggedActivitiesDistance</th>\n",
       "      <th>VeryActiveDistance</th>\n",
       "      <th>ModeratelyActiveDistance</th>\n",
       "      <th>LightActiveDistance</th>\n",
       "      <th>SedentaryActiveDistance</th>\n",
       "      <th>VeryActiveMinutes</th>\n",
       "      <th>FairlyActiveMinutes</th>\n",
       "      <th>LightlyActiveMinutes</th>\n",
       "      <th>SedentaryMinutes</th>\n",
       "      <th>Calories</th>\n",
       "      <th>TotalActiveMinutes</th>\n",
       "      <th>TotalMinutes</th>\n",
       "      <th>TotalActiveHours</th>\n",
       "    </tr>\n",
       "  </thead>\n",
       "  <tbody>\n",
       "    <tr>\n",
       "      <th>0</th>\n",
       "      <td>1503960366</td>\n",
       "      <td>2016-04-12</td>\n",
       "      <td>13162</td>\n",
       "      <td>8.50</td>\n",
       "      <td>8.50</td>\n",
       "      <td>0.0</td>\n",
       "      <td>1.88</td>\n",
       "      <td>0.55</td>\n",
       "      <td>6.06</td>\n",
       "      <td>0.0</td>\n",
       "      <td>25</td>\n",
       "      <td>13</td>\n",
       "      <td>328</td>\n",
       "      <td>728</td>\n",
       "      <td>1985</td>\n",
       "      <td>366</td>\n",
       "      <td>1094</td>\n",
       "      <td>6.0</td>\n",
       "    </tr>\n",
       "    <tr>\n",
       "      <th>1</th>\n",
       "      <td>1503960366</td>\n",
       "      <td>2016-04-13</td>\n",
       "      <td>10735</td>\n",
       "      <td>6.97</td>\n",
       "      <td>6.97</td>\n",
       "      <td>0.0</td>\n",
       "      <td>1.57</td>\n",
       "      <td>0.69</td>\n",
       "      <td>4.71</td>\n",
       "      <td>0.0</td>\n",
       "      <td>21</td>\n",
       "      <td>19</td>\n",
       "      <td>217</td>\n",
       "      <td>776</td>\n",
       "      <td>1797</td>\n",
       "      <td>257</td>\n",
       "      <td>1033</td>\n",
       "      <td>4.0</td>\n",
       "    </tr>\n",
       "    <tr>\n",
       "      <th>2</th>\n",
       "      <td>1503960366</td>\n",
       "      <td>2016-04-14</td>\n",
       "      <td>10460</td>\n",
       "      <td>6.74</td>\n",
       "      <td>6.74</td>\n",
       "      <td>0.0</td>\n",
       "      <td>2.44</td>\n",
       "      <td>0.40</td>\n",
       "      <td>3.91</td>\n",
       "      <td>0.0</td>\n",
       "      <td>30</td>\n",
       "      <td>11</td>\n",
       "      <td>181</td>\n",
       "      <td>1218</td>\n",
       "      <td>1776</td>\n",
       "      <td>222</td>\n",
       "      <td>1440</td>\n",
       "      <td>4.0</td>\n",
       "    </tr>\n",
       "    <tr>\n",
       "      <th>3</th>\n",
       "      <td>1503960366</td>\n",
       "      <td>2016-04-15</td>\n",
       "      <td>9762</td>\n",
       "      <td>6.28</td>\n",
       "      <td>6.28</td>\n",
       "      <td>0.0</td>\n",
       "      <td>2.14</td>\n",
       "      <td>1.26</td>\n",
       "      <td>2.83</td>\n",
       "      <td>0.0</td>\n",
       "      <td>29</td>\n",
       "      <td>34</td>\n",
       "      <td>209</td>\n",
       "      <td>726</td>\n",
       "      <td>1745</td>\n",
       "      <td>272</td>\n",
       "      <td>998</td>\n",
       "      <td>5.0</td>\n",
       "    </tr>\n",
       "    <tr>\n",
       "      <th>4</th>\n",
       "      <td>1503960366</td>\n",
       "      <td>2016-04-16</td>\n",
       "      <td>12669</td>\n",
       "      <td>8.16</td>\n",
       "      <td>8.16</td>\n",
       "      <td>0.0</td>\n",
       "      <td>2.71</td>\n",
       "      <td>0.41</td>\n",
       "      <td>5.04</td>\n",
       "      <td>0.0</td>\n",
       "      <td>36</td>\n",
       "      <td>10</td>\n",
       "      <td>221</td>\n",
       "      <td>773</td>\n",
       "      <td>1863</td>\n",
       "      <td>267</td>\n",
       "      <td>1040</td>\n",
       "      <td>4.0</td>\n",
       "    </tr>\n",
       "  </tbody>\n",
       "</table>\n",
       "</div>"
      ],
      "text/plain": [
       "           Id ActivityDate  TotalSteps  TotalDistance  TrackerDistance  \\\n",
       "0  1503960366   2016-04-12       13162           8.50             8.50   \n",
       "1  1503960366   2016-04-13       10735           6.97             6.97   \n",
       "2  1503960366   2016-04-14       10460           6.74             6.74   \n",
       "3  1503960366   2016-04-15        9762           6.28             6.28   \n",
       "4  1503960366   2016-04-16       12669           8.16             8.16   \n",
       "\n",
       "   LoggedActivitiesDistance  VeryActiveDistance  ModeratelyActiveDistance  \\\n",
       "0                       0.0                1.88                      0.55   \n",
       "1                       0.0                1.57                      0.69   \n",
       "2                       0.0                2.44                      0.40   \n",
       "3                       0.0                2.14                      1.26   \n",
       "4                       0.0                2.71                      0.41   \n",
       "\n",
       "   LightActiveDistance  SedentaryActiveDistance  VeryActiveMinutes  \\\n",
       "0                 6.06                      0.0                 25   \n",
       "1                 4.71                      0.0                 21   \n",
       "2                 3.91                      0.0                 30   \n",
       "3                 2.83                      0.0                 29   \n",
       "4                 5.04                      0.0                 36   \n",
       "\n",
       "   FairlyActiveMinutes  LightlyActiveMinutes  SedentaryMinutes  Calories  \\\n",
       "0                   13                   328               728      1985   \n",
       "1                   19                   217               776      1797   \n",
       "2                   11                   181              1218      1776   \n",
       "3                   34                   209               726      1745   \n",
       "4                   10                   221               773      1863   \n",
       "\n",
       "   TotalActiveMinutes  TotalMinutes  TotalActiveHours  \n",
       "0                 366          1094               6.0  \n",
       "1                 257          1033               4.0  \n",
       "2                 222          1440               4.0  \n",
       "3                 272           998               5.0  \n",
       "4                 267          1040               4.0  "
      ]
     },
     "execution_count": 17,
     "metadata": {},
     "output_type": "execute_result"
    }
   ],
   "source": [
    "daily_activity.head()"
   ]
  },
  {
   "cell_type": "markdown",
   "id": "233d22d1",
   "metadata": {
    "papermill": {
     "duration": 0.012492,
     "end_time": "2023-07-28T22:33:29.320637",
     "exception": false,
     "start_time": "2023-07-28T22:33:29.308145",
     "status": "completed"
    },
    "tags": []
   },
   "source": [
    "### Concatenate the DataFrames"
   ]
  },
  {
   "cell_type": "code",
   "execution_count": 18,
   "id": "599c91d9",
   "metadata": {
    "execution": {
     "iopub.execute_input": "2023-07-28T22:33:29.348886Z",
     "iopub.status.busy": "2023-07-28T22:33:29.347341Z",
     "iopub.status.idle": "2023-07-28T22:33:29.373420Z",
     "shell.execute_reply": "2023-07-28T22:33:29.372404Z"
    },
    "papermill": {
     "duration": 0.043217,
     "end_time": "2023-07-28T22:33:29.376642",
     "exception": false,
     "start_time": "2023-07-28T22:33:29.333425",
     "status": "completed"
    },
    "tags": []
   },
   "outputs": [
    {
     "name": "stdout",
     "output_type": "stream",
     "text": [
      "              Id        ActivityDate  TotalSteps  TotalDistance  \\\n",
      "0     1503960366 2016-04-12 00:00:00     13162.0           8.50   \n",
      "597   6117666160 2016-04-12 00:00:00         0.0           0.00   \n",
      "2709  5553957443 2016-04-12 00:00:00         0.0           0.00   \n",
      "567   5577150313 2016-04-12 00:00:00      8135.0           6.08   \n",
      "536   5553957443 2016-04-12 00:00:00     11596.0           7.57   \n",
      "...          ...                 ...         ...            ...   \n",
      "2416  4388161847 2016-05-12 15:00:00      2752.0           2.23   \n",
      "2707  4558609924 2016-05-12 15:00:00      2752.0           2.23   \n",
      "2708  4558609924 2016-05-12 16:00:00      2752.0           2.23   \n",
      "1354  2873212765 2016-05-12 23:59:59      2752.0           2.23   \n",
      "1392  6962181067 2016-05-12 23:59:59      2752.0           2.23   \n",
      "\n",
      "      TrackerDistance  LoggedActivitiesDistance  VeryActiveDistance  \\\n",
      "0                8.50                       0.0                1.88   \n",
      "597              0.00                       0.0                0.00   \n",
      "2709             0.00                       0.0                0.00   \n",
      "567              6.08                       0.0                3.60   \n",
      "536              7.57                       0.0                1.37   \n",
      "...               ...                       ...                 ...   \n",
      "2416             2.23                       0.0                0.00   \n",
      "2707             2.23                       0.0                0.00   \n",
      "2708             2.23                       0.0                0.00   \n",
      "1354             2.23                       0.0                0.00   \n",
      "1392             2.23                       0.0                0.00   \n",
      "\n",
      "      ModeratelyActiveDistance  LightActiveDistance  SedentaryActiveDistance  \\\n",
      "0                         0.55                 6.06                      0.0   \n",
      "597                       0.00                 0.00                      0.0   \n",
      "2709                      0.00                 0.00                      0.0   \n",
      "567                       0.38                 2.10                      0.0   \n",
      "536                       0.79                 5.41                      0.0   \n",
      "...                        ...                  ...                      ...   \n",
      "2416                      0.00                 2.23                      0.0   \n",
      "2707                      0.00                 2.23                      0.0   \n",
      "2708                      0.00                 2.23                      0.0   \n",
      "1354                      0.00                 2.23                      0.0   \n",
      "1392                      0.00                 2.23                      0.0   \n",
      "\n",
      "      ...  TotalHoursAsleep  TotalTimeInBed   WeightKg  WeightPounds   Fat  \\\n",
      "0     ...               NaN             NaN        NaN           NaN   NaN   \n",
      "597   ...               NaN             NaN        NaN           NaN   NaN   \n",
      "2709  ...               NaN             NaN        NaN           NaN   NaN   \n",
      "567   ...               NaN             NaN        NaN           NaN   NaN   \n",
      "536   ...               NaN             NaN        NaN           NaN   NaN   \n",
      "...   ...               ...             ...        ...           ...   ...   \n",
      "2416  ...          6.733333           442.0  84.000000    185.188300  25.0   \n",
      "2707  ...          6.733333           442.0  84.000000    185.188300  25.0   \n",
      "2708  ...          6.733333           442.0  84.000000    185.188300  25.0   \n",
      "1354  ...          6.733333           442.0  57.299999    126.324875  22.0   \n",
      "1392  ...          6.733333           442.0  61.900002    136.466144  25.0   \n",
      "\n",
      "            BMI  IsManualReport         LogId  MinuteAverage  HourlyAverage  \n",
      "0           NaN             NaN           NaN            NaN            NaN  \n",
      "597         NaN             NaN           NaN            NaN            NaN  \n",
      "2709        NaN             NaN           NaN      59.333333      57.585172  \n",
      "567         NaN             NaN           NaN      59.333333      57.585172  \n",
      "536         NaN             NaN           NaN      59.333333      57.585172  \n",
      "...         ...             ...           ...            ...            ...  \n",
      "2416  25.139999           False  1.463035e+12      54.833333      56.147449  \n",
      "2707  25.139999           False  1.463035e+12      78.400000      75.909722  \n",
      "2708  25.139999           False  1.463035e+12      77.833333      75.197939  \n",
      "1354  21.690001            True  1.463098e+12      77.833333      75.197939  \n",
      "1392  24.170000            True  1.463098e+12      77.833333      75.197939  \n",
      "\n",
      "[4749 rows x 29 columns]\n"
     ]
    },
    {
     "name": "stderr",
     "output_type": "stream",
     "text": [
      "/tmp/ipykernel_20/3712792000.py:12: FutureWarning: In a future version, object-dtype columns with all-bool values will not be included in reductions with bool_only=True. Explicitly cast to bool dtype instead.\n",
      "  print(combined_df)\n"
     ]
    }
   ],
   "source": [
    "# Step 1: Concatenate the DataFrames vertically to combine all the data\n",
    "combined_df = pd.concat([daily_activity, sleepday, weight_log, heart_rate], ignore_index=True)\n",
    "\n",
    "# Step 2: Sort the combined DataFrame by \"ActivityDate\" \n",
    "combined_df.sort_values(by='ActivityDate', inplace=True)\n",
    "\n",
    "# Step 3: Merge the data using forward fill (ffill) to fill NaN values in subsequent columns\n",
    "combined_df.ffill(inplace=True)\n",
    "\n",
    "\n",
    "\n",
    "print(combined_df)"
   ]
  },
  {
   "cell_type": "code",
   "execution_count": 19,
   "id": "ff1d6ad0",
   "metadata": {
    "execution": {
     "iopub.execute_input": "2023-07-28T22:33:29.404518Z",
     "iopub.status.busy": "2023-07-28T22:33:29.404103Z",
     "iopub.status.idle": "2023-07-28T22:33:29.419512Z",
     "shell.execute_reply": "2023-07-28T22:33:29.417800Z"
    },
    "papermill": {
     "duration": 0.031886,
     "end_time": "2023-07-28T22:33:29.422202",
     "exception": false,
     "start_time": "2023-07-28T22:33:29.390316",
     "status": "completed"
    },
    "tags": []
   },
   "outputs": [
    {
     "name": "stdout",
     "output_type": "stream",
     "text": [
      "False\n",
      "Id                          False\n",
      "ActivityDate                False\n",
      "TotalSteps                  False\n",
      "TotalDistance               False\n",
      "TrackerDistance             False\n",
      "LoggedActivitiesDistance    False\n",
      "VeryActiveDistance          False\n",
      "ModeratelyActiveDistance    False\n",
      "LightActiveDistance         False\n",
      "SedentaryActiveDistance     False\n",
      "VeryActiveMinutes           False\n",
      "FairlyActiveMinutes         False\n",
      "LightlyActiveMinutes        False\n",
      "SedentaryMinutes            False\n",
      "Calories                    False\n",
      "TotalActiveMinutes          False\n",
      "TotalMinutes                False\n",
      "TotalActiveHours            False\n",
      "TotalSleepRecords            True\n",
      "TotalHoursAsleep             True\n",
      "TotalTimeInBed               True\n",
      "WeightKg                     True\n",
      "WeightPounds                 True\n",
      "Fat                          True\n",
      "BMI                          True\n",
      "IsManualReport               True\n",
      "LogId                        True\n",
      "MinuteAverage                True\n",
      "HourlyAverage                True\n",
      "dtype: bool\n"
     ]
    }
   ],
   "source": [
    "# Checking duplicates\n",
    "print(combined_df.duplicated().any())\n",
    "\n",
    "# Checking missing values\n",
    "print(combined_df.isnull().any())\n"
   ]
  },
  {
   "cell_type": "markdown",
   "id": "ee3b4e40",
   "metadata": {
    "papermill": {
     "duration": 0.012743,
     "end_time": "2023-07-28T22:33:29.448069",
     "exception": false,
     "start_time": "2023-07-28T22:33:29.435326",
     "status": "completed"
    },
    "tags": []
   },
   "source": [
    "### Handling missing values"
   ]
  },
  {
   "cell_type": "code",
   "execution_count": 20,
   "id": "c9edc5e0",
   "metadata": {
    "execution": {
     "iopub.execute_input": "2023-07-28T22:33:29.476899Z",
     "iopub.status.busy": "2023-07-28T22:33:29.475802Z",
     "iopub.status.idle": "2023-07-28T22:33:29.500205Z",
     "shell.execute_reply": "2023-07-28T22:33:29.499326Z"
    },
    "papermill": {
     "duration": 0.041139,
     "end_time": "2023-07-28T22:33:29.502399",
     "exception": false,
     "start_time": "2023-07-28T22:33:29.461260",
     "status": "completed"
    },
    "tags": []
   },
   "outputs": [
    {
     "name": "stdout",
     "output_type": "stream",
     "text": [
      "Id                           0\n",
      "ActivityDate                 0\n",
      "TotalSteps                   0\n",
      "TotalDistance                0\n",
      "TrackerDistance              0\n",
      "LoggedActivitiesDistance     0\n",
      "VeryActiveDistance           0\n",
      "ModeratelyActiveDistance     0\n",
      "LightActiveDistance          0\n",
      "SedentaryActiveDistance      0\n",
      "VeryActiveMinutes            0\n",
      "FairlyActiveMinutes          0\n",
      "LightlyActiveMinutes         0\n",
      "SedentaryMinutes             0\n",
      "Calories                     0\n",
      "TotalActiveMinutes           0\n",
      "TotalMinutes                 0\n",
      "TotalActiveHours             0\n",
      "TotalSleepRecords            0\n",
      "TotalHoursAsleep             0\n",
      "TotalTimeInBed               0\n",
      "WeightKg                     0\n",
      "WeightPounds                 0\n",
      "Fat                          0\n",
      "BMI                          0\n",
      "IsManualReport              66\n",
      "LogId                       66\n",
      "MinuteAverage                0\n",
      "HourlyAverage                0\n",
      "dtype: int64\n"
     ]
    }
   ],
   "source": [
    "# Handle Missing Values\n",
    "# Replace missing values in numeric columns with their mean\n",
    "numeric_cols = ['TotalSteps', 'TotalDistance', 'TrackerDistance', 'LoggedActivitiesDistance', 'VeryActiveDistance', 'ModeratelyActiveDistance', 'LightActiveDistance', 'SedentaryActiveDistance', 'Calories', 'TotalActiveMinutes', 'TotalMinutes', 'TotalActiveHours', 'SedentaryMinutes', 'TotalSleepRecords', 'TotalHoursAsleep', 'TotalTimeInBed', 'WeightKg', 'WeightPounds', 'Fat', 'BMI', 'MinuteAverage', 'HourlyAverage']\n",
    "combined_df[numeric_cols] = combined_df[numeric_cols].fillna(combined_df[numeric_cols].mean())\n",
    "\n",
    "# Reset the index after dropping rows\n",
    "combined_df.reset_index(drop=True, inplace=True)\n",
    "\n",
    "# Check if any missing values remain\n",
    "print(combined_df.isnull().sum())"
   ]
  },
  {
   "cell_type": "code",
   "execution_count": 21,
   "id": "9f3d2352",
   "metadata": {
    "execution": {
     "iopub.execute_input": "2023-07-28T22:33:29.529619Z",
     "iopub.status.busy": "2023-07-28T22:33:29.529240Z",
     "iopub.status.idle": "2023-07-28T22:33:29.549875Z",
     "shell.execute_reply": "2023-07-28T22:33:29.548134Z"
    },
    "papermill": {
     "duration": 0.037088,
     "end_time": "2023-07-28T22:33:29.552331",
     "exception": false,
     "start_time": "2023-07-28T22:33:29.515243",
     "status": "completed"
    },
    "tags": []
   },
   "outputs": [
    {
     "name": "stdout",
     "output_type": "stream",
     "text": [
      "              Id        ActivityDate  TotalSteps  TotalDistance  \\\n",
      "0     1503960366 2016-04-12 00:00:00     13162.0           8.50   \n",
      "1     6117666160 2016-04-12 00:00:00         0.0           0.00   \n",
      "2     5553957443 2016-04-12 00:00:00         0.0           0.00   \n",
      "3     5577150313 2016-04-12 00:00:00      8135.0           6.08   \n",
      "4     5553957443 2016-04-12 00:00:00     11596.0           7.57   \n",
      "...          ...                 ...         ...            ...   \n",
      "4744  4388161847 2016-05-12 15:00:00      2752.0           2.23   \n",
      "4745  4558609924 2016-05-12 15:00:00      2752.0           2.23   \n",
      "4746  4558609924 2016-05-12 16:00:00      2752.0           2.23   \n",
      "4747  2873212765 2016-05-12 23:59:59      2752.0           2.23   \n",
      "4748  6962181067 2016-05-12 23:59:59      2752.0           2.23   \n",
      "\n",
      "      TrackerDistance  LoggedActivitiesDistance  VeryActiveDistance  \\\n",
      "0                8.50                       0.0                1.88   \n",
      "1                0.00                       0.0                0.00   \n",
      "2                0.00                       0.0                0.00   \n",
      "3                6.08                       0.0                3.60   \n",
      "4                7.57                       0.0                1.37   \n",
      "...               ...                       ...                 ...   \n",
      "4744             2.23                       0.0                0.00   \n",
      "4745             2.23                       0.0                0.00   \n",
      "4746             2.23                       0.0                0.00   \n",
      "4747             2.23                       0.0                0.00   \n",
      "4748             2.23                       0.0                0.00   \n",
      "\n",
      "      ModeratelyActiveDistance  LightActiveDistance  SedentaryActiveDistance  \\\n",
      "0                         0.55                 6.06                      0.0   \n",
      "1                         0.00                 0.00                      0.0   \n",
      "2                         0.00                 0.00                      0.0   \n",
      "3                         0.38                 2.10                      0.0   \n",
      "4                         0.79                 5.41                      0.0   \n",
      "...                        ...                  ...                      ...   \n",
      "4744                      0.00                 2.23                      0.0   \n",
      "4745                      0.00                 2.23                      0.0   \n",
      "4746                      0.00                 2.23                      0.0   \n",
      "4747                      0.00                 2.23                      0.0   \n",
      "4748                      0.00                 2.23                      0.0   \n",
      "\n",
      "      ...  TotalHoursAsleep  TotalTimeInBed   WeightKg  WeightPounds  \\\n",
      "0     ...          7.191404       464.01672  73.685395    162.448488   \n",
      "1     ...          7.191404       464.01672  73.685395    162.448488   \n",
      "2     ...          7.191404       464.01672  73.685395    162.448488   \n",
      "3     ...          7.191404       464.01672  73.685395    162.448488   \n",
      "4     ...          7.191404       464.01672  73.685395    162.448488   \n",
      "...   ...               ...             ...        ...           ...   \n",
      "4744  ...          6.733333       442.00000  84.000000    185.188300   \n",
      "4745  ...          6.733333       442.00000  84.000000    185.188300   \n",
      "4746  ...          6.733333       442.00000  84.000000    185.188300   \n",
      "4747  ...          6.733333       442.00000  57.299999    126.324875   \n",
      "4748  ...          6.733333       442.00000  61.900002    136.466144   \n",
      "\n",
      "            Fat        BMI  IsManualReport         LogId  MinuteAverage  \\\n",
      "0     24.874439  25.156889             NaN           NaN      71.581029   \n",
      "1     24.874439  25.156889             NaN           NaN      71.581029   \n",
      "2     24.874439  25.156889             NaN           NaN      59.333333   \n",
      "3     24.874439  25.156889             NaN           NaN      59.333333   \n",
      "4     24.874439  25.156889             NaN           NaN      59.333333   \n",
      "...         ...        ...             ...           ...            ...   \n",
      "4744  25.000000  25.139999           False  1.463035e+12      54.833333   \n",
      "4745  25.000000  25.139999           False  1.463035e+12      78.400000   \n",
      "4746  25.000000  25.139999           False  1.463035e+12      77.833333   \n",
      "4747  22.000000  21.690001            True  1.463098e+12      77.833333   \n",
      "4748  25.000000  24.170000            True  1.463098e+12      77.833333   \n",
      "\n",
      "      HourlyAverage  \n",
      "0         71.407206  \n",
      "1         71.407206  \n",
      "2         57.585172  \n",
      "3         57.585172  \n",
      "4         57.585172  \n",
      "...             ...  \n",
      "4744      56.147449  \n",
      "4745      75.909722  \n",
      "4746      75.197939  \n",
      "4747      75.197939  \n",
      "4748      75.197939  \n",
      "\n",
      "[4749 rows x 29 columns]\n"
     ]
    },
    {
     "name": "stderr",
     "output_type": "stream",
     "text": [
      "/tmp/ipykernel_20/4054809260.py:1: FutureWarning: In a future version, object-dtype columns with all-bool values will not be included in reductions with bool_only=True. Explicitly cast to bool dtype instead.\n",
      "  print(combined_df)\n"
     ]
    }
   ],
   "source": [
    "print(combined_df)"
   ]
  },
  {
   "cell_type": "markdown",
   "id": "055fe74c",
   "metadata": {
    "papermill": {
     "duration": 0.012933,
     "end_time": "2023-07-28T22:33:29.578443",
     "exception": false,
     "start_time": "2023-07-28T22:33:29.565510",
     "status": "completed"
    },
    "tags": []
   },
   "source": [
    "### Verify the new data frame columns"
   ]
  },
  {
   "cell_type": "code",
   "execution_count": 22,
   "id": "8df919af",
   "metadata": {
    "execution": {
     "iopub.execute_input": "2023-07-28T22:33:29.606909Z",
     "iopub.status.busy": "2023-07-28T22:33:29.605602Z",
     "iopub.status.idle": "2023-07-28T22:33:29.612423Z",
     "shell.execute_reply": "2023-07-28T22:33:29.611762Z"
    },
    "papermill": {
     "duration": 0.022936,
     "end_time": "2023-07-28T22:33:29.614260",
     "exception": false,
     "start_time": "2023-07-28T22:33:29.591324",
     "status": "completed"
    },
    "tags": []
   },
   "outputs": [
    {
     "data": {
      "text/plain": [
       "Index(['Id', 'ActivityDate', 'TotalSteps', 'TotalDistance', 'TrackerDistance',\n",
       "       'LoggedActivitiesDistance', 'VeryActiveDistance',\n",
       "       'ModeratelyActiveDistance', 'LightActiveDistance',\n",
       "       'SedentaryActiveDistance', 'VeryActiveMinutes', 'FairlyActiveMinutes',\n",
       "       'LightlyActiveMinutes', 'SedentaryMinutes', 'Calories',\n",
       "       'TotalActiveMinutes', 'TotalMinutes', 'TotalActiveHours',\n",
       "       'TotalSleepRecords', 'TotalHoursAsleep', 'TotalTimeInBed', 'WeightKg',\n",
       "       'WeightPounds', 'Fat', 'BMI', 'IsManualReport', 'LogId',\n",
       "       'MinuteAverage', 'HourlyAverage'],\n",
       "      dtype='object')"
      ]
     },
     "execution_count": 22,
     "metadata": {},
     "output_type": "execute_result"
    }
   ],
   "source": [
    "combined_df.columns"
   ]
  },
  {
   "cell_type": "markdown",
   "id": "4e25f7ef",
   "metadata": {
    "papermill": {
     "duration": 0.013776,
     "end_time": "2023-07-28T22:33:29.641163",
     "exception": false,
     "start_time": "2023-07-28T22:33:29.627387",
     "status": "completed"
    },
    "tags": []
   },
   "source": [
    "### Data Preprocessing - Creating WeekDay Column and Reordering Columns in Merged DataFrame"
   ]
  },
  {
   "cell_type": "code",
   "execution_count": 23,
   "id": "7abecc57",
   "metadata": {
    "execution": {
     "iopub.execute_input": "2023-07-28T22:33:29.669636Z",
     "iopub.status.busy": "2023-07-28T22:33:29.668898Z",
     "iopub.status.idle": "2023-07-28T22:33:29.690959Z",
     "shell.execute_reply": "2023-07-28T22:33:29.690074Z"
    },
    "papermill": {
     "duration": 0.039228,
     "end_time": "2023-07-28T22:33:29.693668",
     "exception": false,
     "start_time": "2023-07-28T22:33:29.654440",
     "status": "completed"
    },
    "tags": []
   },
   "outputs": [
    {
     "name": "stdout",
     "output_type": "stream",
     "text": [
      "              Id        ActivityDate  WeekDay  TotalSteps  TotalDistance  \\\n",
      "0     1503960366 2016-04-12 00:00:00        1     13162.0           8.50   \n",
      "1     6117666160 2016-04-12 00:00:00        1         0.0           0.00   \n",
      "2     5553957443 2016-04-12 00:00:00        1         0.0           0.00   \n",
      "3     5577150313 2016-04-12 00:00:00        1      8135.0           6.08   \n",
      "4     5553957443 2016-04-12 00:00:00        1     11596.0           7.57   \n",
      "...          ...                 ...      ...         ...            ...   \n",
      "4744  4388161847 2016-05-12 15:00:00        3      2752.0           2.23   \n",
      "4745  4558609924 2016-05-12 15:00:00        3      2752.0           2.23   \n",
      "4746  4558609924 2016-05-12 16:00:00        3      2752.0           2.23   \n",
      "4747  2873212765 2016-05-12 23:59:59        3      2752.0           2.23   \n",
      "4748  6962181067 2016-05-12 23:59:59        3      2752.0           2.23   \n",
      "\n",
      "      TotalActiveMinutes  TotalMinutes  TotalActiveHours  \\\n",
      "0                  366.0        1094.0               6.0   \n",
      "1                    0.0        1440.0               0.0   \n",
      "2                    0.0        1440.0               0.0   \n",
      "3                  242.0         970.0               4.0   \n",
      "4                  309.0        1076.0               5.0   \n",
      "...                  ...           ...               ...   \n",
      "4744                68.0         309.0               1.0   \n",
      "4745                68.0         309.0               1.0   \n",
      "4746                68.0         309.0               1.0   \n",
      "4747                68.0         309.0               1.0   \n",
      "4748                68.0         309.0               1.0   \n",
      "\n",
      "      LightlyActiveMinutes  FairlyActiveMinutes  ...  LightActiveDistance  \\\n",
      "0                    328.0                 13.0  ...                 6.06   \n",
      "1                      0.0                  0.0  ...                 0.00   \n",
      "2                      0.0                  0.0  ...                 0.00   \n",
      "3                    140.0                 16.0  ...                 2.10   \n",
      "4                    277.0                 13.0  ...                 5.41   \n",
      "...                    ...                  ...  ...                  ...   \n",
      "4744                  68.0                  0.0  ...                 2.23   \n",
      "4745                  68.0                  0.0  ...                 2.23   \n",
      "4746                  68.0                  0.0  ...                 2.23   \n",
      "4747                  68.0                  0.0  ...                 2.23   \n",
      "4748                  68.0                  0.0  ...                 2.23   \n",
      "\n",
      "      ModeratelyActiveDistance  VeryActiveDistance  Calories  \\\n",
      "0                         0.55                1.88    1985.0   \n",
      "1                         0.00                0.00    1496.0   \n",
      "2                         0.00                0.00    1496.0   \n",
      "3                         0.38                3.60    3405.0   \n",
      "4                         0.79                1.37    2026.0   \n",
      "...                        ...                 ...       ...   \n",
      "4744                      0.00                0.00    1240.0   \n",
      "4745                      0.00                0.00    1240.0   \n",
      "4746                      0.00                0.00    1240.0   \n",
      "4747                      0.00                0.00    1240.0   \n",
      "4748                      0.00                0.00    1240.0   \n",
      "\n",
      "      TotalHoursAsleep   WeightKg        Fat        BMI  MinuteAverage  \\\n",
      "0             7.191404  73.685395  24.874439  25.156889      71.581029   \n",
      "1             7.191404  73.685395  24.874439  25.156889      71.581029   \n",
      "2             7.191404  73.685395  24.874439  25.156889      59.333333   \n",
      "3             7.191404  73.685395  24.874439  25.156889      59.333333   \n",
      "4             7.191404  73.685395  24.874439  25.156889      59.333333   \n",
      "...                ...        ...        ...        ...            ...   \n",
      "4744          6.733333  84.000000  25.000000  25.139999      54.833333   \n",
      "4745          6.733333  84.000000  25.000000  25.139999      78.400000   \n",
      "4746          6.733333  84.000000  25.000000  25.139999      77.833333   \n",
      "4747          6.733333  57.299999  22.000000  21.690001      77.833333   \n",
      "4748          6.733333  61.900002  25.000000  24.170000      77.833333   \n",
      "\n",
      "      HourlyAverage  \n",
      "0         71.407206  \n",
      "1         71.407206  \n",
      "2         57.585172  \n",
      "3         57.585172  \n",
      "4         57.585172  \n",
      "...             ...  \n",
      "4744      56.147449  \n",
      "4745      75.909722  \n",
      "4746      75.197939  \n",
      "4747      75.197939  \n",
      "4748      75.197939  \n",
      "\n",
      "[4749 rows x 21 columns]\n"
     ]
    }
   ],
   "source": [
    "# Create the \"WeekDay\" column based on the day of the week (Monday: 0, Sunday: 6)\n",
    "combined_df.loc[:, \"WeekDay\"] = combined_df[\"ActivityDate\"].dt.weekday\n",
    "\n",
    "\n",
    "\n",
    "# Create a new list called new_cols with the desired column order for the combined_df DataFrame\n",
    "new_cols = [\"Id\", \"ActivityDate\", \"WeekDay\",'TotalSteps', 'TotalDistance', 'TotalActiveMinutes', 'TotalMinutes',\n",
    "            'TotalActiveHours', 'LightlyActiveMinutes', 'FairlyActiveMinutes',\n",
    "            'VeryActiveMinutes', 'LightActiveDistance', 'ModeratelyActiveDistance',\n",
    "            'VeryActiveDistance', 'Calories', 'TotalHoursAsleep',\n",
    "            'WeightKg', 'Fat', 'BMI', 'MinuteAverage', 'HourlyAverage']\n",
    "\n",
    "# Reorder the columns of the merged_data DataFrame based on the new_cols list\n",
    "combined_df = combined_df[new_cols]\n",
    "\n",
    "print(combined_df)"
   ]
  },
  {
   "cell_type": "markdown",
   "id": "274d7f1b",
   "metadata": {
    "papermill": {
     "duration": 0.013017,
     "end_time": "2023-07-28T22:33:29.720306",
     "exception": false,
     "start_time": "2023-07-28T22:33:29.707289",
     "status": "completed"
    },
    "tags": []
   },
   "source": [
    "A new \"WeekDay\" column was created based on the day of the week (Monday: 0, Sunday: 6) and the columns were reordered in the merged_data DataFrame using a predefined list."
   ]
  },
  {
   "cell_type": "markdown",
   "id": "37a2dfa9",
   "metadata": {
    "papermill": {
     "duration": 0.012855,
     "end_time": "2023-07-28T22:33:29.746377",
     "exception": false,
     "start_time": "2023-07-28T22:33:29.733522",
     "status": "completed"
    },
    "tags": []
   },
   "source": [
    "# 4. Analyze phase"
   ]
  },
  {
   "cell_type": "markdown",
   "id": "7b0b76d1",
   "metadata": {
    "papermill": {
     "duration": 0.012636,
     "end_time": "2023-07-28T22:33:29.772302",
     "exception": false,
     "start_time": "2023-07-28T22:33:29.759666",
     "status": "completed"
    },
    "tags": []
   },
   "source": [
    "### Summary statistics\n",
    "\n",
    "\n",
    "The summary statistics provide an overview of the data's central tendency and variability, allowing us to gain insights into various aspects of the users' activity levels, sleep patterns, and body metrics. "
   ]
  },
  {
   "cell_type": "code",
   "execution_count": 24,
   "id": "c4b938ba",
   "metadata": {
    "execution": {
     "iopub.execute_input": "2023-07-28T22:33:29.800098Z",
     "iopub.status.busy": "2023-07-28T22:33:29.799716Z",
     "iopub.status.idle": "2023-07-28T22:33:29.862487Z",
     "shell.execute_reply": "2023-07-28T22:33:29.861067Z"
    },
    "papermill": {
     "duration": 0.079673,
     "end_time": "2023-07-28T22:33:29.864834",
     "exception": false,
     "start_time": "2023-07-28T22:33:29.785161",
     "status": "completed"
    },
    "tags": []
   },
   "outputs": [
    {
     "data": {
      "text/html": [
       "<div>\n",
       "<style scoped>\n",
       "    .dataframe tbody tr th:only-of-type {\n",
       "        vertical-align: middle;\n",
       "    }\n",
       "\n",
       "    .dataframe tbody tr th {\n",
       "        vertical-align: top;\n",
       "    }\n",
       "\n",
       "    .dataframe thead th {\n",
       "        text-align: right;\n",
       "    }\n",
       "</style>\n",
       "<table border=\"1\" class=\"dataframe\">\n",
       "  <thead>\n",
       "    <tr style=\"text-align: right;\">\n",
       "      <th></th>\n",
       "      <th>Id</th>\n",
       "      <th>WeekDay</th>\n",
       "      <th>TotalSteps</th>\n",
       "      <th>TotalDistance</th>\n",
       "      <th>TotalActiveMinutes</th>\n",
       "      <th>TotalMinutes</th>\n",
       "      <th>TotalActiveHours</th>\n",
       "      <th>LightlyActiveMinutes</th>\n",
       "      <th>FairlyActiveMinutes</th>\n",
       "      <th>VeryActiveMinutes</th>\n",
       "      <th>LightActiveDistance</th>\n",
       "      <th>ModeratelyActiveDistance</th>\n",
       "      <th>VeryActiveDistance</th>\n",
       "      <th>Calories</th>\n",
       "      <th>TotalHoursAsleep</th>\n",
       "      <th>WeightKg</th>\n",
       "      <th>Fat</th>\n",
       "      <th>BMI</th>\n",
       "      <th>MinuteAverage</th>\n",
       "      <th>HourlyAverage</th>\n",
       "    </tr>\n",
       "  </thead>\n",
       "  <tbody>\n",
       "    <tr>\n",
       "      <th>count</th>\n",
       "      <td>4.749000e+03</td>\n",
       "      <td>4749.000000</td>\n",
       "      <td>4749.000000</td>\n",
       "      <td>4749.000000</td>\n",
       "      <td>4749.000000</td>\n",
       "      <td>4749.000000</td>\n",
       "      <td>4749.000000</td>\n",
       "      <td>4749.000000</td>\n",
       "      <td>4749.000000</td>\n",
       "      <td>4749.000000</td>\n",
       "      <td>4749.000000</td>\n",
       "      <td>4749.000000</td>\n",
       "      <td>4749.000000</td>\n",
       "      <td>4749.000000</td>\n",
       "      <td>4749.000000</td>\n",
       "      <td>4749.000000</td>\n",
       "      <td>4749.000000</td>\n",
       "      <td>4749.000000</td>\n",
       "      <td>4749.000000</td>\n",
       "      <td>4749.000000</td>\n",
       "    </tr>\n",
       "    <tr>\n",
       "      <th>mean</th>\n",
       "      <td>5.296912e+09</td>\n",
       "      <td>2.913245</td>\n",
       "      <td>9076.636766</td>\n",
       "      <td>6.724007</td>\n",
       "      <td>253.183196</td>\n",
       "      <td>1222.990524</td>\n",
       "      <td>4.162139</td>\n",
       "      <td>210.791535</td>\n",
       "      <td>14.067593</td>\n",
       "      <td>28.324068</td>\n",
       "      <td>3.822798</td>\n",
       "      <td>0.600606</td>\n",
       "      <td>2.272285</td>\n",
       "      <td>2472.375237</td>\n",
       "      <td>7.191404</td>\n",
       "      <td>73.685395</td>\n",
       "      <td>24.874439</td>\n",
       "      <td>25.156889</td>\n",
       "      <td>71.581029</td>\n",
       "      <td>71.407206</td>\n",
       "    </tr>\n",
       "    <tr>\n",
       "      <th>std</th>\n",
       "      <td>1.985409e+09</td>\n",
       "      <td>1.919299</td>\n",
       "      <td>5806.376876</td>\n",
       "      <td>4.829708</td>\n",
       "      <td>111.457691</td>\n",
       "      <td>256.804825</td>\n",
       "      <td>1.921652</td>\n",
       "      <td>96.845315</td>\n",
       "      <td>21.071884</td>\n",
       "      <td>41.550196</td>\n",
       "      <td>1.968262</td>\n",
       "      <td>0.970964</td>\n",
       "      <td>3.885306</td>\n",
       "      <td>804.620383</td>\n",
       "      <td>1.872496</td>\n",
       "      <td>12.018063</td>\n",
       "      <td>0.596637</td>\n",
       "      <td>2.004821</td>\n",
       "      <td>15.987991</td>\n",
       "      <td>13.943718</td>\n",
       "    </tr>\n",
       "    <tr>\n",
       "      <th>min</th>\n",
       "      <td>1.503960e+09</td>\n",
       "      <td>0.000000</td>\n",
       "      <td>0.000000</td>\n",
       "      <td>0.000000</td>\n",
       "      <td>0.000000</td>\n",
       "      <td>2.000000</td>\n",
       "      <td>0.000000</td>\n",
       "      <td>0.000000</td>\n",
       "      <td>0.000000</td>\n",
       "      <td>0.000000</td>\n",
       "      <td>0.000000</td>\n",
       "      <td>0.000000</td>\n",
       "      <td>0.000000</td>\n",
       "      <td>0.000000</td>\n",
       "      <td>0.966667</td>\n",
       "      <td>52.599998</td>\n",
       "      <td>22.000000</td>\n",
       "      <td>21.450001</td>\n",
       "      <td>36.800000</td>\n",
       "      <td>43.294008</td>\n",
       "    </tr>\n",
       "    <tr>\n",
       "      <th>25%</th>\n",
       "      <td>4.388162e+09</td>\n",
       "      <td>1.000000</td>\n",
       "      <td>5153.000000</td>\n",
       "      <td>3.370000</td>\n",
       "      <td>211.000000</td>\n",
       "      <td>1000.000000</td>\n",
       "      <td>4.000000</td>\n",
       "      <td>147.000000</td>\n",
       "      <td>0.000000</td>\n",
       "      <td>0.000000</td>\n",
       "      <td>2.430000</td>\n",
       "      <td>0.000000</td>\n",
       "      <td>0.000000</td>\n",
       "      <td>1906.000000</td>\n",
       "      <td>6.166667</td>\n",
       "      <td>61.500000</td>\n",
       "      <td>25.000000</td>\n",
       "      <td>24.000000</td>\n",
       "      <td>60.000000</td>\n",
       "      <td>60.984048</td>\n",
       "    </tr>\n",
       "    <tr>\n",
       "      <th>50%</th>\n",
       "      <td>5.553957e+09</td>\n",
       "      <td>3.000000</td>\n",
       "      <td>8163.000000</td>\n",
       "      <td>6.140000</td>\n",
       "      <td>262.000000</td>\n",
       "      <td>1440.000000</td>\n",
       "      <td>4.000000</td>\n",
       "      <td>232.000000</td>\n",
       "      <td>7.000000</td>\n",
       "      <td>5.000000</td>\n",
       "      <td>3.740000</td>\n",
       "      <td>0.250000</td>\n",
       "      <td>0.330000</td>\n",
       "      <td>2336.000000</td>\n",
       "      <td>7.316667</td>\n",
       "      <td>72.300003</td>\n",
       "      <td>25.000000</td>\n",
       "      <td>25.410000</td>\n",
       "      <td>68.200000</td>\n",
       "      <td>69.140317</td>\n",
       "    </tr>\n",
       "    <tr>\n",
       "      <th>75%</th>\n",
       "      <td>6.962181e+09</td>\n",
       "      <td>5.000000</td>\n",
       "      <td>12332.000000</td>\n",
       "      <td>9.080000</td>\n",
       "      <td>343.000000</td>\n",
       "      <td>1440.000000</td>\n",
       "      <td>6.000000</td>\n",
       "      <td>273.000000</td>\n",
       "      <td>20.000000</td>\n",
       "      <td>35.000000</td>\n",
       "      <td>5.390000</td>\n",
       "      <td>0.800000</td>\n",
       "      <td>2.630000</td>\n",
       "      <td>3101.000000</td>\n",
       "      <td>8.200000</td>\n",
       "      <td>85.099998</td>\n",
       "      <td>25.000000</td>\n",
       "      <td>25.590000</td>\n",
       "      <td>80.500000</td>\n",
       "      <td>79.734112</td>\n",
       "    </tr>\n",
       "    <tr>\n",
       "      <th>max</th>\n",
       "      <td>8.877689e+09</td>\n",
       "      <td>6.000000</td>\n",
       "      <td>36019.000000</td>\n",
       "      <td>28.030001</td>\n",
       "      <td>552.000000</td>\n",
       "      <td>1440.000000</td>\n",
       "      <td>9.000000</td>\n",
       "      <td>518.000000</td>\n",
       "      <td>143.000000</td>\n",
       "      <td>210.000000</td>\n",
       "      <td>10.710000</td>\n",
       "      <td>6.480000</td>\n",
       "      <td>21.920000</td>\n",
       "      <td>4900.000000</td>\n",
       "      <td>13.266667</td>\n",
       "      <td>133.500000</td>\n",
       "      <td>25.000000</td>\n",
       "      <td>47.540001</td>\n",
       "      <td>191.000000</td>\n",
       "      <td>156.267686</td>\n",
       "    </tr>\n",
       "  </tbody>\n",
       "</table>\n",
       "</div>"
      ],
      "text/plain": [
       "                 Id      WeekDay    TotalSteps  TotalDistance  \\\n",
       "count  4.749000e+03  4749.000000   4749.000000    4749.000000   \n",
       "mean   5.296912e+09     2.913245   9076.636766       6.724007   \n",
       "std    1.985409e+09     1.919299   5806.376876       4.829708   \n",
       "min    1.503960e+09     0.000000      0.000000       0.000000   \n",
       "25%    4.388162e+09     1.000000   5153.000000       3.370000   \n",
       "50%    5.553957e+09     3.000000   8163.000000       6.140000   \n",
       "75%    6.962181e+09     5.000000  12332.000000       9.080000   \n",
       "max    8.877689e+09     6.000000  36019.000000      28.030001   \n",
       "\n",
       "       TotalActiveMinutes  TotalMinutes  TotalActiveHours  \\\n",
       "count         4749.000000   4749.000000       4749.000000   \n",
       "mean           253.183196   1222.990524          4.162139   \n",
       "std            111.457691    256.804825          1.921652   \n",
       "min              0.000000      2.000000          0.000000   \n",
       "25%            211.000000   1000.000000          4.000000   \n",
       "50%            262.000000   1440.000000          4.000000   \n",
       "75%            343.000000   1440.000000          6.000000   \n",
       "max            552.000000   1440.000000          9.000000   \n",
       "\n",
       "       LightlyActiveMinutes  FairlyActiveMinutes  VeryActiveMinutes  \\\n",
       "count           4749.000000          4749.000000        4749.000000   \n",
       "mean             210.791535            14.067593          28.324068   \n",
       "std               96.845315            21.071884          41.550196   \n",
       "min                0.000000             0.000000           0.000000   \n",
       "25%              147.000000             0.000000           0.000000   \n",
       "50%              232.000000             7.000000           5.000000   \n",
       "75%              273.000000            20.000000          35.000000   \n",
       "max              518.000000           143.000000         210.000000   \n",
       "\n",
       "       LightActiveDistance  ModeratelyActiveDistance  VeryActiveDistance  \\\n",
       "count          4749.000000               4749.000000         4749.000000   \n",
       "mean              3.822798                  0.600606            2.272285   \n",
       "std               1.968262                  0.970964            3.885306   \n",
       "min               0.000000                  0.000000            0.000000   \n",
       "25%               2.430000                  0.000000            0.000000   \n",
       "50%               3.740000                  0.250000            0.330000   \n",
       "75%               5.390000                  0.800000            2.630000   \n",
       "max              10.710000                  6.480000           21.920000   \n",
       "\n",
       "          Calories  TotalHoursAsleep     WeightKg          Fat          BMI  \\\n",
       "count  4749.000000       4749.000000  4749.000000  4749.000000  4749.000000   \n",
       "mean   2472.375237          7.191404    73.685395    24.874439    25.156889   \n",
       "std     804.620383          1.872496    12.018063     0.596637     2.004821   \n",
       "min       0.000000          0.966667    52.599998    22.000000    21.450001   \n",
       "25%    1906.000000          6.166667    61.500000    25.000000    24.000000   \n",
       "50%    2336.000000          7.316667    72.300003    25.000000    25.410000   \n",
       "75%    3101.000000          8.200000    85.099998    25.000000    25.590000   \n",
       "max    4900.000000         13.266667   133.500000    25.000000    47.540001   \n",
       "\n",
       "       MinuteAverage  HourlyAverage  \n",
       "count    4749.000000    4749.000000  \n",
       "mean       71.581029      71.407206  \n",
       "std        15.987991      13.943718  \n",
       "min        36.800000      43.294008  \n",
       "25%        60.000000      60.984048  \n",
       "50%        68.200000      69.140317  \n",
       "75%        80.500000      79.734112  \n",
       "max       191.000000     156.267686  "
      ]
     },
     "execution_count": 24,
     "metadata": {},
     "output_type": "execute_result"
    }
   ],
   "source": [
    "# Calculate summary statistics for numeric columns\n",
    "summary_stats = combined_df.describe()\n",
    "\n",
    "# Display the summary statistics\n",
    "(summary_stats)\n"
   ]
  },
  {
   "cell_type": "markdown",
   "id": "3326b89e",
   "metadata": {
    "papermill": {
     "duration": 0.013118,
     "end_time": "2023-07-28T22:33:29.891724",
     "exception": false,
     "start_time": "2023-07-28T22:33:29.878606",
     "status": "completed"
    },
    "tags": []
   },
   "source": [
    "#### Some early insights\n",
    "\n",
    "**Insights from the Summary Statistics:**\n",
    "\n",
    "1. **TotalSteps and TotalDistance:**\n",
    "   - The average number of steps taken per day is approximately 9.076, with a minimum of 0 steps and a maximum of 36,019 steps.\n",
    "   - The average total distance covered per day is around 6.75 km, with a minimum of 0 km and a maximum of 28.03 km.\n",
    "   - The standard deviation for both \"TotalSteps\" and \"TotalDistance\" is relatively high, indicating significant variability in daily step counts and distances covered among the users.\n",
    "\n",
    "2. **TotalActiveMinutes and TotalMinutes:**\n",
    "   - The average total active minutes per day is approximately 253 minutes, ranging from 0 minutes to 552 minutes.\n",
    "   - TotalMinutes refers to SedentaryMinutes + TotalActiveMinutes. So we can conclude that SedentaryMinutes is iqual to TotalMinutes(mean:1222) - TotalActiveMinutes(mean:253), which is iqual to 969 sedentary minutes.\n",
    "   - The calculated average sedentary minutes per day (approximately 969 minutes) highlights that users spend a significant portion of their day in sedentary activities.\n",
    "\n",
    "3. **TotalActiveHours:**\n",
    "   - The average total active hours per day is approximately 3.62 hours, with a minimum of 2 hours and a maximum of 9 hours.\n",
    "   - \"TotalActiveHours\" represents the total number of hours of active minutes in a day.\n",
    "\n",
    "4. **LightlyActiveMinutes, FairlyActiveMinutes, and VeryActiveMinutes:**\n",
    "   - The average number of minutes spent in lightly active activities is about 187 minutes, with a minimum of 0 minutes and a maximum of 518 minutes.\n",
    "   - The average number of minutes spent in fairly active activities is around 12 minutes, ranging from 0 minutes to 143 minutes.\n",
    "   - The average number of minutes spent in very active activities is approximately 17.67 minutes, with a minimum of 0 minutes and a maximum of 210 minutes.\n",
    "\n",
    "5. **LightActiveDistance, ModeratelyActiveDistance, and VeryActiveDistance:**\n",
    "   - The average distance covered during lightly active activities is approximately 3.38 km, ranging from 0 km to 10.71 km.\n",
    "   - The average distance covered during moderately active activities is about 0.46 km, with a minimum of 0 km and a maximum of 6.48 km.\n",
    "   - The average distance covered during very active activities is around 1.29 km, ranging from 0 km to 21.92 km.\n",
    "\n",
    "6. **Calories:**\n",
    "   - The average number of calories burned per day is approximately 2288 calories, with a minimum of 0 calories and a maximum of 4900 calories.\n",
    "   - The standard deviation for \"Calories\" is relatively high, indicating significant variability in daily calorie burn among participants.\n",
    "\n",
    "7. **TotalHoursAsleep:**\n",
    "   - The average total hours of sleep per day is approximately 7.25 hours, with a minimum of 0.97 hours (around 58 minutes) and a maximum of 13.27 hours (around 13 hours and 16 minutes).\n",
    "   - Some participants may have recorded very little sleep (or no sleep) for certain days, while others might have recorded an unusually long duration of sleep.\n",
    "\n",
    "8. **WeightKg and Fat:**\n",
    "   - The average weight of the participants is around 72.55 kg, with a minimum weight of 52.60 kg and a maximum weight of 133.50 kg.\n",
    "   - The average body fat percentage is about 24.87%, ranging from 22% to 25%.\n",
    "\n",
    "9. **BMI:**\n",
    "   - The average BMI (Body Mass Index) is approximately 24.75, with a minimum of 21.45 and a maximum of 47.\n",
    "   - A BMI of 47 classifies the user as having severe obesity and, because of this, they are exposed to a higher risk of developing high blood pressure, type 2 diabetes, sleep apnea, or other serious health conditions.\n",
    "\n",
    "10. **Heart Rate:**\n",
    "    - The average MinuteAverage heart rate is 71.58 beats per minute, indicating a moderate heart rate for users during recorded minutes, with a minimum of 36, which can be interpreted as a resting time, and a maximum of 191, which can be interpreted as a very active period.\n",
    "    - Similarly, the average HourlyAverage heart rate is 71.41 beats per minute, suggesting a moderate heart rate on an hourly basis.\n"
   ]
  },
  {
   "cell_type": "code",
   "execution_count": 25,
   "id": "b9bfaa26",
   "metadata": {
    "execution": {
     "iopub.execute_input": "2023-07-28T22:33:29.920618Z",
     "iopub.status.busy": "2023-07-28T22:33:29.920225Z",
     "iopub.status.idle": "2023-07-28T22:33:30.063436Z",
     "shell.execute_reply": "2023-07-28T22:33:30.062296Z"
    },
    "papermill": {
     "duration": 0.160569,
     "end_time": "2023-07-28T22:33:30.065622",
     "exception": false,
     "start_time": "2023-07-28T22:33:29.905053",
     "status": "completed"
    },
    "tags": []
   },
   "outputs": [
    {
     "data": {
      "image/png": "[encoded data removed]",
      "text/plain": [
       "<Figure size 400x400 with 1 Axes>"
      ]
     },
     "metadata": {},
     "output_type": "display_data"
    }
   ],
   "source": [
    "# Filter out days with < 200 TotalSteps taken\n",
    "filtered_daily_activity = daily_activity[daily_activity['TotalSteps'] > 200]\n",
    "\n",
    "# Group by 'Id' and count the number of days used\n",
    "daily_use2 = filtered_daily_activity.groupby('Id')['ActivityDate'].count().reset_index()\n",
    "daily_use2.rename(columns={'ActivityDate': 'daysused'}, inplace=True)\n",
    "\n",
    "# Assign usage categories based on the number of days used\n",
    "daily_use2['Usage'] = pd.cut(daily_use2['daysused'], bins=[0, 14, 21, 31],\n",
    "                             labels=['Low Use', 'Moderate Use', 'High Use'])\n",
    "\n",
    "# Calculate percentage and total participants for each usage type\n",
    "daily_use = daily_use2.groupby('Usage').agg(participants=('Id', 'nunique')).reset_index()\n",
    "daily_use['perc'] = (daily_use['participants'] / daily_use['participants'].sum()) * 100\n",
    "daily_use['perc'] = daily_use['perc'].map('{:.0f}%'.format)\n",
    "\n",
    "# Plot the pie chart for distribution of different usage types\n",
    "plt.figure(figsize=(4, 4))\n",
    "plt.pie(daily_use['participants'], labels=daily_use['Usage'], autopct='%1.0f%%', startangle=90,\n",
    "        colors=plt.cm.Pastel1.colors)\n",
    "plt.title('Usage Group Distribution')\n",
    "plt.axis('equal')\n",
    "plt.show()\n"
   ]
  },
  {
   "cell_type": "markdown",
   "id": "e9da58fa",
   "metadata": {
    "papermill": {
     "duration": 0.017924,
     "end_time": "2023-07-28T22:33:30.102087",
     "exception": false,
     "start_time": "2023-07-28T22:33:30.084163",
     "status": "completed"
    },
    "tags": []
   },
   "source": [
    "The pie chart illustrates the distribution of participants in different usage categories based on the number of days they have actively used the Fitbit tracker, filtering out days with less than 200 TotalSteps taken. The usage categories are defined as follows:\n",
    "\n",
    "1. Low Use: Participants who used the Fitbit tracker for less than or equal to 14 days.\n",
    "2. Moderate Use: Participants who used the Fitbit tracker for more than 14 days but less than or equal to 21 days.\n",
    "3. High Use: Participants who used the Fitbit tracker for more than 21 days.\n",
    "\n",
    "Insights:\n",
    "1. Majority of Participants: The largest segment of participants (73%) fall under the \"High Use\" category, indicating that a significant number of users actively engaged with their Fitbit trackers for more than 21 days.\n",
    "\n",
    "2. Moderate Use: The \"Moderate Use\" category accounts for the second largest proportion of participants (21%). This suggests that a substantial number of users used their Fitbit trackers for more than two weeks but did not reach the threshold of using it for more than 21 days.\n",
    "\n",
    "3. Low Use: The smallest segment is the \"Low Use\" category (6%), representing users who used the Fitbit tracker for less than or equal to 14 days. This indicates a relatively smaller group of participants who may have used the device for a brief period or infrequently.\n",
    "\n",
    "\n",
    "**About Missing Data:** According to this chart, we can suppose that the missing data in the combined_df DataFrame can be justified by participants not wearing the Fitbit device during certain activities or periods, not recording specific metrics, and not providing continuous data throughout the day. \n",
    "\n"
   ]
  },
  {
   "cell_type": "markdown",
   "id": "270e9e03",
   "metadata": {
    "papermill": {
     "duration": 0.01818,
     "end_time": "2023-07-28T22:33:30.138601",
     "exception": false,
     "start_time": "2023-07-28T22:33:30.120421",
     "status": "completed"
    },
    "tags": []
   },
   "source": [
    "#### Calculate the correlation matrix"
   ]
  },
  {
   "cell_type": "code",
   "execution_count": 26,
   "id": "5c1ae99d",
   "metadata": {
    "execution": {
     "iopub.execute_input": "2023-07-28T22:33:30.169860Z",
     "iopub.status.busy": "2023-07-28T22:33:30.169072Z",
     "iopub.status.idle": "2023-07-28T22:33:30.192904Z",
     "shell.execute_reply": "2023-07-28T22:33:30.190179Z"
    },
    "papermill": {
     "duration": 0.04253,
     "end_time": "2023-07-28T22:33:30.195652",
     "exception": false,
     "start_time": "2023-07-28T22:33:30.153122",
     "status": "completed"
    },
    "tags": []
   },
   "outputs": [
    {
     "name": "stdout",
     "output_type": "stream",
     "text": [
      "                                Id   WeekDay  TotalSteps  TotalDistance  \\\n",
      "Id                        1.000000  0.002936    0.053521       0.063773   \n",
      "WeekDay                   0.002936  1.000000    0.074058       0.082191   \n",
      "TotalSteps                0.053521  0.074058    1.000000       0.987553   \n",
      "TotalDistance             0.063773  0.082191    0.987553       1.000000   \n",
      "TotalActiveMinutes        0.023239  0.063240    0.719934       0.651848   \n",
      "TotalMinutes             -0.007118  0.114056    0.097026       0.122763   \n",
      "TotalActiveHours          0.020538  0.056065    0.736309       0.671653   \n",
      "LightlyActiveMinutes      0.000735 -0.003556    0.423133       0.351402   \n",
      "FairlyActiveMinutes       0.006981  0.203004    0.359625       0.333465   \n",
      "VeryActiveMinutes         0.057085  0.074975    0.762590       0.760408   \n",
      "LightActiveDistance       0.027151  0.056245    0.589287       0.558477   \n",
      "ModeratelyActiveDistance  0.003050  0.199246    0.331307       0.304462   \n",
      "VeryActiveDistance        0.062557  0.025875    0.842484       0.880121   \n",
      "Calories                  0.093323  0.241706    0.734070       0.758926   \n",
      "TotalHoursAsleep          0.026280 -0.048477   -0.358232      -0.365259   \n",
      "WeightKg                  0.057679 -0.205572    0.087087       0.109416   \n",
      "Fat                       0.007569 -0.085369    0.016591       0.039814   \n",
      "BMI                       0.018736 -0.263494   -0.033522      -0.030163   \n",
      "MinuteAverage             0.075169  0.062410    0.048939       0.046679   \n",
      "HourlyAverage             0.078994  0.104490    0.065706       0.063358   \n",
      "\n",
      "                          TotalActiveMinutes  TotalMinutes  TotalActiveHours  \\\n",
      "Id                                  0.023239     -0.007118          0.020538   \n",
      "WeekDay                             0.063240      0.114056          0.056065   \n",
      "TotalSteps                          0.719934      0.097026          0.736309   \n",
      "TotalDistance                       0.651848      0.122763          0.671653   \n",
      "TotalActiveMinutes                  1.000000     -0.025473          0.990537   \n",
      "TotalMinutes                       -0.025473      1.000000         -0.029576   \n",
      "TotalActiveHours                    0.990537     -0.029576          1.000000   \n",
      "LightlyActiveMinutes                0.887411     -0.040825          0.869070   \n",
      "FairlyActiveMinutes                 0.406925      0.015767          0.377723   \n",
      "VeryActiveMinutes                   0.407734      0.018826          0.439909   \n",
      "LightActiveDistance                 0.773787      0.093465          0.758605   \n",
      "ModeratelyActiveDistance            0.371414      0.036728          0.340769   \n",
      "VeryActiveDistance                  0.329341      0.093809          0.368914   \n",
      "Calories                            0.552052      0.154519          0.561747   \n",
      "TotalHoursAsleep                   -0.118322     -0.038048         -0.143315   \n",
      "WeightKg                            0.010108     -0.020313          0.014034   \n",
      "Fat                                -0.066781     -0.085203         -0.049701   \n",
      "BMI                                -0.035674     -0.113700         -0.030905   \n",
      "MinuteAverage                       0.035729      0.018493          0.029705   \n",
      "HourlyAverage                       0.045701      0.013176          0.039445   \n",
      "\n",
      "                          LightlyActiveMinutes  FairlyActiveMinutes  \\\n",
      "Id                                    0.000735             0.006981   \n",
      "WeekDay                              -0.003556             0.203004   \n",
      "TotalSteps                            0.423133             0.359625   \n",
      "TotalDistance                         0.351402             0.333465   \n",
      "TotalActiveMinutes                    0.887411             0.406925   \n",
      "TotalMinutes                         -0.040825             0.015767   \n",
      "TotalActiveHours                      0.869070             0.377723   \n",
      "LightlyActiveMinutes                  1.000000             0.134682   \n",
      "FairlyActiveMinutes                   0.134682             1.000000   \n",
      "VeryActiveMinutes                    -0.018641             0.270509   \n",
      "LightActiveDistance                   0.808730             0.133956   \n",
      "ModeratelyActiveDistance              0.151841             0.963764   \n",
      "VeryActiveDistance                   -0.006905             0.106835   \n",
      "Calories                              0.217038             0.424528   \n",
      "TotalHoursAsleep                      0.003401             0.002237   \n",
      "WeightKg                              0.058420            -0.138155   \n",
      "Fat                                  -0.085336            -0.046143   \n",
      "BMI                                   0.011935            -0.109810   \n",
      "MinuteAverage                         0.017145             0.017794   \n",
      "HourlyAverage                         0.020327             0.024924   \n",
      "\n",
      "                          VeryActiveMinutes  LightActiveDistance  \\\n",
      "Id                                 0.057085             0.027151   \n",
      "WeekDay                            0.074975             0.056245   \n",
      "TotalSteps                         0.762590             0.589287   \n",
      "TotalDistance                      0.760408             0.558477   \n",
      "TotalActiveMinutes                 0.407734             0.773787   \n",
      "TotalMinutes                       0.018826             0.093465   \n",
      "TotalActiveHours                   0.439909             0.758605   \n",
      "LightlyActiveMinutes              -0.018641             0.808730   \n",
      "FairlyActiveMinutes                0.270509             0.133956   \n",
      "VeryActiveMinutes                  1.000000             0.122746   \n",
      "LightActiveDistance                0.122746             1.000000   \n",
      "ModeratelyActiveDistance           0.153634             0.135080   \n",
      "VeryActiveDistance                 0.845366             0.156089   \n",
      "Calories                           0.759701             0.456871   \n",
      "TotalHoursAsleep                  -0.326460            -0.073927   \n",
      "WeightKg                          -0.038988             0.109763   \n",
      "Fat                                0.043161             0.048691   \n",
      "BMI                               -0.067822            -0.007126   \n",
      "MinuteAverage                      0.046858             0.032036   \n",
      "HourlyAverage                      0.062576             0.045257   \n",
      "\n",
      "                          ModeratelyActiveDistance  VeryActiveDistance  \\\n",
      "Id                                        0.003050            0.062557   \n",
      "WeekDay                                   0.199246            0.025875   \n",
      "TotalSteps                                0.331307            0.842484   \n",
      "TotalDistance                             0.304462            0.880121   \n",
      "TotalActiveMinutes                        0.371414            0.329341   \n",
      "TotalMinutes                              0.036728            0.093809   \n",
      "TotalActiveHours                          0.340769            0.368914   \n",
      "LightlyActiveMinutes                      0.151841           -0.006905   \n",
      "FairlyActiveMinutes                       0.963764            0.106835   \n",
      "VeryActiveMinutes                         0.153634            0.845366   \n",
      "LightActiveDistance                       0.135080            0.156089   \n",
      "ModeratelyActiveDistance                  1.000000            0.061507   \n",
      "VeryActiveDistance                        0.061507            1.000000   \n",
      "Calories                                  0.319383            0.626089   \n",
      "TotalHoursAsleep                         -0.009130           -0.412389   \n",
      "WeightKg                                 -0.111639            0.110376   \n",
      "Fat                                      -0.096760            0.048256   \n",
      "BMI                                      -0.111952           -0.005833   \n",
      "MinuteAverage                             0.018225            0.040330   \n",
      "HourlyAverage                             0.025118            0.052914   \n",
      "\n",
      "                          Calories  TotalHoursAsleep  WeightKg       Fat  \\\n",
      "Id                        0.093323          0.026280  0.057679  0.007569   \n",
      "WeekDay                   0.241706         -0.048477 -0.205572 -0.085369   \n",
      "TotalSteps                0.734070         -0.358232  0.087087  0.016591   \n",
      "TotalDistance             0.758926         -0.365259  0.109416  0.039814   \n",
      "TotalActiveMinutes        0.552052         -0.118322  0.010108 -0.066781   \n",
      "TotalMinutes              0.154519         -0.038048 -0.020313 -0.085203   \n",
      "TotalActiveHours          0.561747         -0.143315  0.014034 -0.049701   \n",
      "LightlyActiveMinutes      0.217038          0.003401  0.058420 -0.085336   \n",
      "FairlyActiveMinutes       0.424528          0.002237 -0.138155 -0.046143   \n",
      "VeryActiveMinutes         0.759701         -0.326460 -0.038988  0.043161   \n",
      "LightActiveDistance       0.456871         -0.073927  0.109763  0.048691   \n",
      "ModeratelyActiveDistance  0.319383         -0.009130 -0.111639 -0.096760   \n",
      "VeryActiveDistance        0.626089         -0.412389  0.110376  0.048256   \n",
      "Calories                  1.000000         -0.257674 -0.021311  0.097659   \n",
      "TotalHoursAsleep         -0.257674          1.000000  0.104904  0.044360   \n",
      "WeightKg                 -0.021311          0.104904  1.000000  0.145143   \n",
      "Fat                       0.097659          0.044360  0.145143  1.000000   \n",
      "BMI                      -0.098498          0.139833  0.625712  0.079198   \n",
      "MinuteAverage             0.043540          0.015333  0.229023 -0.000047   \n",
      "HourlyAverage             0.059058          0.008973  0.217775  0.002514   \n",
      "\n",
      "                               BMI  MinuteAverage  HourlyAverage  \n",
      "Id                        0.018736       0.075169       0.078994  \n",
      "WeekDay                  -0.263494       0.062410       0.104490  \n",
      "TotalSteps               -0.033522       0.048939       0.065706  \n",
      "TotalDistance            -0.030163       0.046679       0.063358  \n",
      "TotalActiveMinutes       -0.035674       0.035729       0.045701  \n",
      "TotalMinutes             -0.113700       0.018493       0.013176  \n",
      "TotalActiveHours         -0.030905       0.029705       0.039445  \n",
      "LightlyActiveMinutes      0.011935       0.017145       0.020327  \n",
      "FairlyActiveMinutes      -0.109810       0.017794       0.024924  \n",
      "VeryActiveMinutes        -0.067822       0.046858       0.062576  \n",
      "LightActiveDistance      -0.007126       0.032036       0.045257  \n",
      "ModeratelyActiveDistance -0.111952       0.018225       0.025118  \n",
      "VeryActiveDistance       -0.005833       0.040330       0.052914  \n",
      "Calories                 -0.098498       0.043540       0.059058  \n",
      "TotalHoursAsleep          0.139833       0.015333       0.008973  \n",
      "WeightKg                  0.625712       0.229023       0.217775  \n",
      "Fat                       0.079198      -0.000047       0.002514  \n",
      "BMI                       1.000000       0.010998      -0.009687  \n",
      "MinuteAverage             0.010998       1.000000       0.811340  \n",
      "HourlyAverage            -0.009687       0.811340       1.000000  \n"
     ]
    },
    {
     "name": "stderr",
     "output_type": "stream",
     "text": [
      "/tmp/ipykernel_20/3457317263.py:4: FutureWarning: The default value of numeric_only in DataFrame.corr is deprecated. In a future version, it will default to False. Select only valid columns or specify the value of numeric_only to silence this warning.\n",
      "  correlation_matrix = df.corr()\n"
     ]
    }
   ],
   "source": [
    "df = combined_df\n",
    "\n",
    "# Calculate the correlation matrix\n",
    "correlation_matrix = df.corr()\n",
    "\n",
    "# Print the correlation matrix\n",
    "print(correlation_matrix)\n"
   ]
  },
  {
   "cell_type": "markdown",
   "id": "392f23df",
   "metadata": {
    "papermill": {
     "duration": 0.015798,
     "end_time": "2023-07-28T22:33:30.226639",
     "exception": false,
     "start_time": "2023-07-28T22:33:30.210841",
     "status": "completed"
    },
    "tags": []
   },
   "source": [
    "### **Insights from the Correlation Matrix:**\n",
    "\n",
    "The correlation matrix shows the relationships between various features in the dataset. The values range from -1 to 1, where -1 indicates a perfect negative correlation, 0 indicates no correlation, and 1 indicates a perfect positive correlation.\n",
    "\n",
    "1. **TotalSteps, TotalDistance, TotalActiveMinutes, TotalActiveHours, LightlyActiveMinutes, and VeryActiveMinutes:**\n",
    "   - TotalSteps and TotalDistance have a very high positive correlation of approximately 0.99, indicating that they are almost perfectly linearly related. This is expected since more steps typically result in covering more distance.\n",
    "   - TotalSteps and TotalActiveMinutes, as well as TotalDistance and TotalActiveMinutes, have positive correlations around 0.77 and 0.62, respectively. It suggests that higher step counts and greater distances covered are associated with more active minutes.\n",
    " \n",
    "\n",
    "2. **FairlyActiveMinutes and ModeratelyActiveDistance:**\n",
    "   - FairlyActiveMinutes and ModeratelyActiveDistance have a high positive correlation of about 0.96, indicating that participants who spend more time in fairly active activities tend to cover a greater distance during moderately active activities.\n",
    "\n",
    "3. **VeryActiveMinutes and VeryActiveDistance:**\n",
    "   - VeryActiveMinutes and VeryActiveDistance have a strong positive correlation of approximately 0.84, suggesting that participants who spend more time in very active activities tend to cover longer distances during such activities.\n",
    "\n",
    "4. **Calories and TotalActiveMinutes:**\n",
    "   - Calories burned and TotalActiveMinutes have a moderate positive correlation of around 0.55. This indicates that more active minutes are generally associated with higher calorie burn.\n",
    "\n",
    "5. **BMI and WeightKg:**\n",
    "   - BMI and WeightKg (weight in kilograms) have a moderate positive correlation of approximately 0.62, indicating that higher body weights are associated with higher BMI values.\n",
    "\n",
    "6. **MinuteAverage and HourlyAverage:**\n",
    "   - The correlations between \"MinuteAverage\" and \"HourlyAverage\" with other variables are relatively weak. While there are some correlations, they are not strong enough to draw definitive conclusions about their direct impact on activity levels\n",
    "\n"
   ]
  },
  {
   "cell_type": "markdown",
   "id": "7dcbd438",
   "metadata": {
    "papermill": {
     "duration": 0.017739,
     "end_time": "2023-07-28T22:33:30.263659",
     "exception": false,
     "start_time": "2023-07-28T22:33:30.245920",
     "status": "completed"
    },
    "tags": []
   },
   "source": [
    "# 5. Share phase"
   ]
  },
  {
   "cell_type": "markdown",
   "id": "d20eef23",
   "metadata": {
    "papermill": {
     "duration": 0.014004,
     "end_time": "2023-07-28T22:33:30.294978",
     "exception": false,
     "start_time": "2023-07-28T22:33:30.280974",
     "status": "completed"
    },
    "tags": []
   },
   "source": [
    "## Let's visualize the correlation matrix for easy analysis"
   ]
  },
  {
   "cell_type": "code",
   "execution_count": 27,
   "id": "53a1d1b8",
   "metadata": {
    "execution": {
     "iopub.execute_input": "2023-07-28T22:33:30.324973Z",
     "iopub.status.busy": "2023-07-28T22:33:30.324596Z",
     "iopub.status.idle": "2023-07-28T22:33:31.424824Z",
     "shell.execute_reply": "2023-07-28T22:33:31.423814Z"
    },
    "papermill": {
     "duration": 1.118071,
     "end_time": "2023-07-28T22:33:31.427370",
     "exception": false,
     "start_time": "2023-07-28T22:33:30.309299",
     "status": "completed"
    },
    "tags": []
   },
   "outputs": [
    {
     "data": {
      "image/png": "[encoded data removed]",
      "text/plain": [
       "<Figure size 1200x1000 with 2 Axes>"
      ]
     },
     "metadata": {},
     "output_type": "display_data"
    }
   ],
   "source": [
    "# Plot the correlation heatmap\n",
    "plt.figure(figsize=(12, 10))\n",
    "sns.heatmap(correlation_matrix, annot=True, cmap='coolwarm', fmt=\".2f\", linewidths=0.5)\n",
    "plt.title(\"Correlation Heatmap of Activity and Health Metrics\")\n",
    "plt.show()"
   ]
  },
  {
   "cell_type": "markdown",
   "id": "815c98be",
   "metadata": {
    "papermill": {
     "duration": 0.017665,
     "end_time": "2023-07-28T22:33:31.463176",
     "exception": false,
     "start_time": "2023-07-28T22:33:31.445511",
     "status": "completed"
    },
    "tags": []
   },
   "source": [
    "## Comparing correlations:"
   ]
  },
  {
   "cell_type": "markdown",
   "id": "bca8c685",
   "metadata": {
    "papermill": {
     "duration": 0.017597,
     "end_time": "2023-07-28T22:33:31.498761",
     "exception": false,
     "start_time": "2023-07-28T22:33:31.481164",
     "status": "completed"
    },
    "tags": []
   },
   "source": [
    "#### Calories\n",
    "\n",
    "Let's compare the correlations of the \"Calories\" variable with other features in the dataset and provide insights into the relationships:\n",
    "\n",
    "1. **Calories and TotalActiveMinutes:**\n",
    "   - Calories have a moderate positive correlation (approximately 0.55) with TotalActiveMinutes.\n",
    "   - This indicates that participants who engage in more active minutes tend to burn more calories. It makes intuitive sense, as physical activity leads to higher energy expenditure.\n",
    "\n",
    "2. **Calories and TotalSteps, TotalDistance:**\n",
    "   - Calories have a positive correlation with both TotalSteps (approximately 0.73) and TotalDistance (approximately 0.76).\n",
    "   - This suggests that participants who take more steps and cover greater distances tend to burn more calories.\n",
    "   - It reaffirms the relationship between physical activity (measured by steps and distance) and calorie expenditure.\n",
    "\n",
    "3. **Calories and VeryActiveMinutes, VeryActiveDistance:**\n",
    "   - Calories have a relatively strong positive correlation with VeryActiveMinutes (approximately 0.76) and VeryActiveDistance (approximately 0.63).\n",
    "   - Participants who spend more time in very active activities and cover longer distances during such activities tend to burn more calories.\n",
    "   - Very active activities are likely to be more intense and result in higher calorie burn.\n",
    "\n",
    "4. **Calories and FairlyActiveMinutes, ModeratelyActiveDistance:**\n",
    "   - Calories have a moderate positive correlation with FairlyActiveMinutes (approximately 0.42) and ModeratelyActiveDistance (approximately 0.32).\n",
    "   - Fairly active and moderately active activities are less intense than very active activities but still contribute to calorie burn.\n",
    "\n",
    "5. **Calories and LightlyActiveMinutes, LightActiveDistance:**\n",
    "   - Calories have a moderate positive correlation with LightlyActiveMinutes (approximately 0.22) and LightActiveDistance (approximately 0.46).\n",
    "   - Light physical activities contribute to calorie burn, but their impact is relatively lower compared to more intense activities.\n",
    "   - It suggests that even light activities, when accumulated over time, can contribute to calorie expenditure.\n",
    "\n",
    "6. **Calories and TotalHoursAsleep:**\n",
    "   - Calories and TotalHoursAsleep have a moderate negative correlation (approximately -0.26). This negative correlation indicates that there is an inverse relationship between the number of calories burned and the total minutes of sleep. It suggests that higher calorie burn is associated with fewer total minutes of sleep. \n",
    "   - The relationship is not very strong, but indicating that sleep duration may  have a some direct impact on daily calorie burn. However, it's important to note that correlation does not necessarily imply causation. The negative correlation between calories and total minutes asleep may be influenced by other factors that affect both variables.\n",
    "\n",
    "7. **Calories and BMI, WeightKg, Fat:**\n",
    "   - Calories have a weak negative correlation with BMI (approximately -0.10), and with WeightKg (approximately -0.02) and a very weak positive correlation with Fat (approximately 0.10).\n",
    "   - Calories have a weak negative correlation with BMI: Approximately -0.10. This suggests that as BMI (body mass index) increases, calorie burn tends to decrease slightly. In other words, individuals with higher BMI may burn slightly fewer calories compared to those with lower BMI.\n",
    "   - Calories have a very weak positive correlation with Fat: Approximately 0.10. This indicates that as the percentage of body fat increases, calorie burn also tends to increase slightly. However, the correlation is quite weak, and other factors are likely to have a more significant impact on calorie burn.\n",
    "   - Calories have a very weak negative correlation with WeightKg: Approximately -0.02. This means that as calorie burn  decreases, the body weight increases,  slightly, but the correlation is so weak that it is not practically significant.\n",
    "\n",
    "8. **Comparing the impact of activity levels and distances on Calories burned**\n",
    "\n",
    "    - Both activity levels and distance levels have positive impacts on calorie burn (Calories). However, the correlation values suggest that activity levels (TotalSteps, TotalActiveMinutes, VeryActiveMinutes, LightlyActiveMinutes, FairlyActiveMinutes) have a slightly stronger correlation with Calories compared to distance levels (TotalDistance, LightActiveDistance, ModeratelyActiveDistance, VeryActiveDistance).\n",
    "    - This implies that while both increasing overall activity and covering longer distances are beneficial for burning calories, the intensity and engagement in various activity levels play a significant role in calorie expenditure."
   ]
  },
  {
   "cell_type": "markdown",
   "id": "e3756f4f",
   "metadata": {
    "papermill": {
     "duration": 0.017499,
     "end_time": "2023-07-28T22:33:31.533849",
     "exception": false,
     "start_time": "2023-07-28T22:33:31.516350",
     "status": "completed"
    },
    "tags": []
   },
   "source": [
    "#### Heart rate\n",
    "\n",
    " - Overall, the correlations between heart rate (MinuteAverage and HourlyAverage) and other variables are generally weak, suggesting that heart rate does not have a strong linear relationship with most of the recorded metrics. \n",
    " - However, the positive correlations with physical activity-related variables (TotalSteps, TotalDistance, TotalActiveMinutes, VeryActiveMinutes, LightActiveDistance, and Calories) indicate that higher heart rates may be associated with increased activity levels and energy expenditure during exercise. \n",
    " - The weak negative correlations with TotalHoursAsleep, WeightKg, and Fat suggest a possible association between lower heart rate and better sleep quality, lower body weight, and lower body fat percentage, respectively.\n"
   ]
  },
  {
   "cell_type": "markdown",
   "id": "357b1500",
   "metadata": {
    "papermill": {
     "duration": 0.017163,
     "end_time": "2023-07-28T22:33:31.568674",
     "exception": false,
     "start_time": "2023-07-28T22:33:31.551511",
     "status": "completed"
    },
    "tags": []
   },
   "source": [
    "#### TotalMinutesAsleep\n",
    "\n",
    "Let's compare the correlations of \"TotalHoursAsleep\" with other features in the dataset and provide insights into the relationships:\n",
    "\n",
    "1. **TotalHoursAsleep:**\n",
    "   - TotalHoursAsleep represents the total number of hours slept by the individual.\n",
    "   - TotalHoursAsleep has a weak negative correlation with the following variables:\n",
    "     - TotalSteps: Approximately -0.36, indicating a weak negative relationship between the total hours of sleep and the number of steps taken. This suggests that individuals who sleep more may tend to take fewer steps during the day.\n",
    "     - TotalDistance: Approximately -0.37, suggesting a weak negative correlation between the total hours of sleep and the total distance covered. This means that individuals who sleep more may cover a shorter distance throughout the day.\n",
    "     - TotalActiveMinutes: Approximately -0.12, indicating a weak negative correlation between total hours of sleep and total active minutes. This suggests that individuals who sleep more may engage in fewer active minutes.\n",
    "     - VeryActiveMinutes: Approximately -0.33, suggesting a weak negative correlation between total hours of sleep and very active minutes. This means that individuals who sleep more may spend less time in very active activities.\n",
    "     - Calories: Approximately -0.26. This means that as the total hours of sleep increase, there is a slight tendency for calorie burn to decrease. In other words, individuals who sleep more may burn slightly fewer calories compared to those who sleep less.\n",
    "\n",
    "   - TotalHoursAsleep has a weak positive correlation with the following variable:\n",
    "     - WeightKg: Approximately 0.10, indicating a weak positive correlation between total hours of sleep and body weight. This suggests that individuals who sleep more may tend to have a slightly higher body weight.\n",
    "\n",
    "2. **Other Variables:**\n",
    "   - TotalSteps, TotalDistance, TotalActiveMinutes, and VeryActiveMinutes have negative correlations with TotalHoursAsleep, suggesting that higher activity levels are associated with shorter sleep durations.\n",
    "   - Calories also has a negative correlation with TotalHoursAsleep, indicating that higher calorie burn is associated with shorter sleep durations.\n",
    "   - WeightKg has a positive correlation with TotalHoursAsleep, suggesting that higher body weight is associated with longer sleep durations.\n",
    "\n",
    "Overall, the correlations between TotalHoursAsleep and other variables show that individuals who sleep more tend to be less physically active, cover shorter distances, and burn fewer calories. Additionally, there is a weak positive correlation between total hours of sleep and body weight, indicating that individuals with longer sleep durations may have slightly higher body weights. However, it's important to note that correlation does not imply causation, and other factors may influence these relationships. It's essential to consider individual variations and lifestyle factors when interpreting these correlations."
   ]
  },
  {
   "cell_type": "markdown",
   "id": "a39161db",
   "metadata": {
    "papermill": {
     "duration": 0.017221,
     "end_time": "2023-07-28T22:33:31.604286",
     "exception": false,
     "start_time": "2023-07-28T22:33:31.587065",
     "status": "completed"
    },
    "tags": []
   },
   "source": [
    "#### Weight, BMI and Fat percentage\n",
    "\n",
    "**Weight (WeightKg):**\n",
    "1. TotalSteps: Very weak positive correlation (0.09) - Suggests a slight tendency for individuals with higher body weight to take slightly more steps, but the impact is not significant.\n",
    "\n",
    "2. TotalDistance: Very weak positive correlation (0.11) - Implies that individuals with higher body weight may cover slightly more distance, but the correlation is not strong.\n",
    "\n",
    "3. TotalActiveMinutes: Very weak positive correlation (0.01) - Body weight has little to no impact on the total minutes of active physical activity.\n",
    "\n",
    "4. TotalHoursAsleep: Very weak negative correlation (-0.05) - Individuals with higher body weight may sleep slightly fewer hours, but the correlation is not significant.\n",
    "\n",
    "**BMI:**\n",
    "1. TotalSteps: Very weak positive correlation (0.05) - Suggests a slight tendency for individuals with higher BMI values to take slightly more steps, but the impact is not strong.\n",
    "\n",
    "2. TotalDistance: Very weak positive correlation (0.05) - Implies that individuals with higher BMI values may cover slightly more distance, but the correlation is not substantial.\n",
    "\n",
    "3. TotalActiveMinutes: Very weak positive correlation (0.04) - BMI has little to no impact on the total minutes of active physical activity.\n",
    "\n",
    "4. TotalHoursAsleep: Weak negative correlation (-0.11) - Individuals with higher BMI values may sleep slightly fewer hours, but the correlation is not strong.\n",
    "\n",
    "**Fat:**\n",
    "1. TotalSteps: Very weak positive correlation (0.08) - Suggests a slight tendency for individuals with higher body fat percentages to take slightly more steps, but the impact is not strong.\n",
    "\n",
    "2. TotalDistance: Very weak positive correlation (0.10) - Implies that individuals with higher body fat percentages may cover slightly more distance, but the correlation is not significant.\n",
    "\n",
    "3. TotalActiveMinutes: Very weak positive correlation (0.04) - Body fat percentage has little to no impact on the total minutes of active physical activity.\n",
    "\n",
    "4. TotalHoursAsleep: Very weak negative correlation (-0.04) - Body fat percentage has little to no impact on sleep duration.\n",
    "\n",
    "The correlations between weight, BMI, and fat with other variables are generally weak, suggesting that these body composition measures alone do not strongly influence physical activity, sleep patterns, or calorie burn."
   ]
  },
  {
   "cell_type": "markdown",
   "id": "90fbf54b",
   "metadata": {
    "papermill": {
     "duration": 0.018573,
     "end_time": "2023-07-28T22:33:31.640596",
     "exception": false,
     "start_time": "2023-07-28T22:33:31.622023",
     "status": "completed"
    },
    "tags": []
   },
   "source": [
    "# 6. Act phase"
   ]
  },
  {
   "cell_type": "markdown",
   "id": "6c28927d",
   "metadata": {
    "papermill": {
     "duration": 0.018209,
     "end_time": "2023-07-28T22:33:31.676693",
     "exception": false,
     "start_time": "2023-07-28T22:33:31.658484",
     "status": "completed"
    },
    "tags": []
   },
   "source": [
    "### Trends in Smart Device Usage and Implications for Bellabeat\n",
    "\n",
    "**Trends in Smart Device Usage and Implications for Bellabeat:**\n",
    "\n",
    "1. **Activity Tracking and Fitness Goals:** The correlation between TotalSteps, TotalDistance, and TotalActiveMinutes suggests that users who track their daily activity levels are more likely to set and achieve fitness goals. Bellabeat can encourage customers to use their smart devices to monitor their steps, distance, and active minutes, providing them with personalized fitness goals and challenges.\n",
    "\n",
    "2. **High-Intensity Workouts:** The correlation between TotalActiveMinutes and VeryActiveMinutes indicates that customers who engage in high-intensity workouts also have higher total active minutes. Bellabeat can leverage this trend by offering a variety of high-intensity workout plans and promoting interval training to cater to different fitness levels and preferences.\n",
    "\n",
    "3. **Activity-Sleep Relationship:** The correlation between TotalActiveMinutes and TotalHoursAsleep suggests a link between physical activity and sleep quality. Bellabeat can provide customers with insights into how their activity levels impact their sleep patterns, enabling them to make lifestyle adjustments for improved well-being.\n",
    "\n",
    "4. **Calorie Tracking and Active Minutes:** The correlation between Calories and TotalActiveMinutes highlights the importance of active minutes in accurate calorie tracking. Bellabeat can educate customers about the significance of staying active to achieve weight management and fitness goals effectively.\n",
    "\n",
    "**Implications for Bellabeat Customers:**\n",
    "\n",
    "1. **Personalized Fitness Guidance:** Bellabeat customers can benefit from personalized fitness guidance based on their activity levels and goals. The smart devices can provide customized workout plans and challenges, motivating users to stay active and track their progress effectively.\n",
    "\n",
    "2. **Better Workout Planning:** Understanding the correlation between activity intensity and total active minutes allows Bellabeat customers to plan more effective workouts. Users can access a variety of high-intensity exercises and interval training to optimize their fitness routine.\n",
    "\n",
    "3. **Holistic Approach to Wellness:** Bellabeat's smart devices offer a holistic approach to wellness by providing insights into the relationship between activity and sleep. Customers can make informed decisions about their lifestyle, considering both their physical activity and sleep patterns.\n",
    "\n",
    "**Implications for Bellabeat Marketing Strategy:**\n",
    "\n",
    "1. **Promotion of Activity Tracking:** Bellabeat can market its smart devices by emphasizing the benefits of activity tracking for achieving fitness goals. Highlighting the correlation between activity levels and fitness outcomes can position the brand as a comprehensive fitness solution.\n",
    "\n",
    "2. **Targeted Campaigns for Active Lifestyles:** Based on the correlation between activity minutes and total minutes, Bellabeat can run targeted marketing campaigns promoting active lifestyles. Collaborating with fitness influencers and organizing events can encourage users to prioritize physical activities.\n",
    "\n",
    "3. **Customizable Fitness Programs:** Bellabeat can develop and market customizable fitness programs aligned with the observed trends. These programs can cater to different user preferences and fitness goals, attracting a broader audience.\n",
    "\n",
    "4. **Integrated Sleep and Activity Insights:** Marketing efforts can emphasize the importance of a balanced approach to fitness and wellness by integrating sleep and activity insights. Bellabeat can create content and campaigns that educate users about the impact of sleep on overall health.\n"
   ]
  },
  {
   "cell_type": "markdown",
   "id": "6248fdec",
   "metadata": {
    "papermill": {
     "duration": 0.017836,
     "end_time": "2023-07-28T22:33:31.712645",
     "exception": false,
     "start_time": "2023-07-28T22:33:31.694809",
     "status": "completed"
    },
    "tags": []
   },
   "source": [
    "## Conclusion\n",
    "\n",
    "In conclusion, the correlation matrix analysis reveals significant trends in smart device usage that have implications for Bellabeat and its customers. The positive correlations between activity metrics (TotalSteps, TotalDistance, TotalActiveMinutes) suggest a strong connection between fitness tracking and goal achievement, providing Bellabeat customers with insights to improve their active lifestyles.\n",
    "\n",
    "Furthermore, the negative correlation between TotalActiveMinutes and TotalHoursAsleep highlights the potential relationship between physical activity and sleep quality. This insight enables Bellabeat to offer personalized fitness guidance and promote better sleep habits among its users.\n",
    "\n",
    "Moreover, the correlations of Calories with BMI and WeightKg indicate a potential link between calorie management and weight-related goals. By integrating this data, Bellabeat can offer targeted weight and BMI monitoring features to help customers achieve their desired health outcomes.\n",
    "\n",
    "The heart rate's correlation with activity levels also presents opportunities for Bellabeat to enhance its heart rate tracking capabilities and provide users with comprehensive health insights.\n",
    "\n",
    "These trends offer Bellabeat valuable insights to shape its marketing strategy. By emphasizing data-driven health solutions, personalized features, and collaborations with fitness influencers and experts, Bellabeat can position itself as a leading brand in the health and fitness technology market.\n",
    "\n",
    "Addressing sedentary behavior through in-app reminders and fostering a social community will further enhance user engagement and loyalty. By continuously improving its offerings and aligning them with customer needs, Bellabeat can create a meaningful impact in the wellness industry and establish itself as a preferred choice for health-conscious individuals seeking holistic and technology-driven well-being solutions."
   ]
  },
  {
   "cell_type": "markdown",
   "id": "44fc149a",
   "metadata": {
    "papermill": {
     "duration": 0.017862,
     "end_time": "2023-07-28T22:33:31.748864",
     "exception": false,
     "start_time": "2023-07-28T22:33:31.731002",
     "status": "completed"
    },
    "tags": []
   },
   "source": [
    "> Please, upvote and leave your comments and contributions! Thanks! <"
   ]
  }
 ],
 "metadata": {
  "kernelspec": {
   "display_name": "Python 3",
   "language": "python",
   "name": "python3"
  },
  "language_info": {
   "codemirror_mode": {
    "name": "ipython",
    "version": 3
   },
   "file_extension": ".py",
   "mimetype": "text/x-python",
   "name": "python",
   "nbconvert_exporter": "python",
   "pygments_lexer": "ipython3",
   "version": "3.10.10"
  },
  "papermill": {
   "default_parameters": {},
   "duration": 258.986093,
   "end_time": "2023-07-28T22:33:32.791341",
   "environment_variables": {},
   "exception": null,
   "input_path": "__notebook__.ipynb",
   "output_path": "__notebook__.ipynb",
   "parameters": {},
   "start_time": "2023-07-28T22:29:13.805248",
   "version": "2.4.0"
  }
 },
 "nbformat": 4,
 "nbformat_minor": 5
}
